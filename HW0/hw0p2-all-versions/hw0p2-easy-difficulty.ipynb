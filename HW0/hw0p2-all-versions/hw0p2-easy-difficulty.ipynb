{
 "nbformat": 4,
 "nbformat_minor": 0,
 "metadata": {
  "kernelspec": {
   "name": "python3",
   "language": "python",
   "display_name": "Python 3"
  },
  "colab": {
   "name": "hw0p2-easy-difficulty.ipynb",
   "provenance": [],
   "collapsed_sections": [],
   "toc_visible": true
  },
  "accelerator": "GPU"
 },
 "cells": [
  {
   "source": [
    "## Homework 0 Part 2: Data Loaders\n",
    "\n",
    "In this assignment, you will be provided with data and an expected result. Your task is to fill out the starter code to obtain the expected result. Do not modify the data (X or Y), and do not modify the instantiation of the dataset or dataloader.\n",
    "\n",
    "All three versions -- easy difficulty, medium difficulty, and hard difficulty -- have the same solution code and the same examples. We recommend starting with the easy difficulty. Once you get the expected results with the easy difficulty, try again with the medium difficulty. If you want to challenge yourself, try again with the hard difficulty.\n",
    "\n",
    "CUDA is not required to complete most of this assignment, but it is required to execute the final command. Please use AWS to access CUDA available resources by following the recitation."
   ],
   "cell_type": "markdown",
   "metadata": {
    "id": "rXx3FjL4R5ZF"
   }
  },
  {
   "cell_type": "markdown",
   "metadata": {
    "id": "ZnMIGQjrR5ZK"
   },
   "source": [
    "<hr style=\"border:2px solid gray\"> </hr>"
   ]
  },
  {
   "cell_type": "code",
   "metadata": {
    "id": "NMvx5m6dR5ZK",
    "executionInfo": {
     "status": "ok",
     "timestamp": 1611283951719,
     "user_tz": 300,
     "elapsed": 3090,
     "user": {
      "displayName": "Zongyue Zhao",
      "photoUrl": "https://lh3.googleusercontent.com/a-/AOh14GgZOv-2gK1w82DTcCTulfMj-gwUCYYYCKOen7AW7A=s64",
      "userId": "13619135682849869167"
     }
    }
   },
   "source": [
    "import numpy as np\n",
    "import torch\n",
    "# import torch.utils.data"
   ],
   "execution_count": 1,
   "outputs": []
  },
  {
   "cell_type": "markdown",
   "metadata": {
    "id": "H--H_9qqR5ZL"
   },
   "source": [
    "### Exercise 1"
   ]
  },
  {
   "cell_type": "code",
   "metadata": {
    "id": "nhzGovzsR5ZL",
    "executionInfo": {
     "status": "ok",
     "timestamp": 1611283951721,
     "user_tz": 300,
     "elapsed": 3088,
     "user": {
      "displayName": "Zongyue Zhao",
      "photoUrl": "https://lh3.googleusercontent.com/a-/AOh14GgZOv-2gK1w82DTcCTulfMj-gwUCYYYCKOen7AW7A=s64",
      "userId": "13619135682849869167"
     }
    }
   },
   "source": [
    "X = np.array([2,  3,  4,  5,  6,  7,  8,  9])"
   ],
   "execution_count": 2,
   "outputs": []
  },
  {
   "cell_type": "code",
   "metadata": {
    "id": "Q7FZnw7fR5ZL",
    "executionInfo": {
     "status": "ok",
     "timestamp": 1611283951721,
     "user_tz": 300,
     "elapsed": 3086,
     "user": {
      "displayName": "Zongyue Zhao",
      "photoUrl": "https://lh3.googleusercontent.com/a-/AOh14GgZOv-2gK1w82DTcCTulfMj-gwUCYYYCKOen7AW7A=s64",
      "userId": "13619135682849869167"
     }
    }
   },
   "source": [
    "class ExampleDataset1(torch.utils.data.Dataset):\n",
    "\n",
    "    def __init__(self, X):\n",
    "\n",
    "        ### Assign data to self (1 line)\n",
    "        self.X = X\n",
    "\n",
    "        ### Assign length to self (1 line)\n",
    "        self.length = len(X)\n",
    "\n",
    "    def __len__(self):\n",
    "\n",
    "        ### Return length (1 line)\n",
    "        return self.length\n",
    "\n",
    "    def __getitem__(self, i):\n",
    "\n",
    "        ### Return data at index i (1 line)\n",
    "        return self.X[i]\n",
    "\n",
    "    def collate_fn(batch):\n",
    "\n",
    "        ### Convert batch to tensor (1 line)\n",
    "        batch_x = torch.as_tensor(batch)\n",
    "\n",
    "        ### Return batched data and labels (1 line)\n",
    "        return batch_x"
   ],
   "execution_count": 3,
   "outputs": []
  },
  {
   "cell_type": "code",
   "metadata": {
    "colab": {
     "base_uri": "https://localhost:8080/"
    },
    "id": "jLBRz596R5ZM",
    "executionInfo": {
     "status": "ok",
     "timestamp": 1611283951985,
     "user_tz": 300,
     "elapsed": 3345,
     "user": {
      "displayName": "Zongyue Zhao",
      "photoUrl": "https://lh3.googleusercontent.com/a-/AOh14GgZOv-2gK1w82DTcCTulfMj-gwUCYYYCKOen7AW7A=s64",
      "userId": "13619135682849869167"
     }
    },
    "outputId": "cd3f0e9b-0f08-417a-8535-1e54409891e7"
   },
   "source": [
    "dataset1 = ExampleDataset1(X)\n",
    "\n",
    "dataloader1 = torch.utils.data.DataLoader(dataset1,\n",
    "                                          batch_size=2,\n",
    "                                          shuffle=False,\n",
    "                                          collate_fn=ExampleDataset1.collate_fn)\n",
    "\n",
    "for i, batch in enumerate(dataloader1):\n",
    "    print(\"Batch\", i, \":\\n\", batch, \"\\n\")"
   ],
   "execution_count": 4,
   "outputs": [
    {
     "name": "stdout",
     "output_type": "stream",
     "text": [
      "Batch 0 :\n",
      " tensor([2, 3], dtype=torch.int32) \n",
      "\n",
      "Batch 1 :\n",
      " tensor([4, 5], dtype=torch.int32) \n",
      "\n",
      "Batch 2 :\n",
      " tensor([6, 7], dtype=torch.int32) \n",
      "\n",
      "Batch 3 :\n",
      " tensor([8, 9], dtype=torch.int32) \n",
      "\n"
     ]
    }
   ]
  },
  {
   "cell_type": "markdown",
   "metadata": {
    "id": "_KgFrucAR5ZM"
   },
   "source": [
    "---\n",
    "#### Expected Output:\n",
    "```\n",
    "Batch 0 :\n",
    " tensor([2, 3])\n",
    "\n",
    "Batch 1 :\n",
    " tensor([4, 5])\n",
    "\n",
    "Batch 2 :\n",
    " tensor([6, 7])\n",
    "\n",
    "Batch 3 :\n",
    " tensor([8, 9])\n",
    "```\n",
    "---"
   ]
  },
  {
   "cell_type": "markdown",
   "metadata": {
    "id": "_lvagguKR5ZM"
   },
   "source": [
    "<hr style=\"border:2px solid gray\"> </hr>"
   ]
  },
  {
   "cell_type": "markdown",
   "metadata": {
    "id": "PthCNqyER5ZM"
   },
   "source": [
    "### Exercise 2"
   ]
  },
  {
   "cell_type": "code",
   "metadata": {
    "id": "1Tx0z_yiR5ZM",
    "executionInfo": {
     "status": "ok",
     "timestamp": 1611283951986,
     "user_tz": 300,
     "elapsed": 3343,
     "user": {
      "displayName": "Zongyue Zhao",
      "photoUrl": "https://lh3.googleusercontent.com/a-/AOh14GgZOv-2gK1w82DTcCTulfMj-gwUCYYYCKOen7AW7A=s64",
      "userId": "13619135682849869167"
     }
    }
   },
   "source": [
    "X = np.array([2,  3,  4,  5,  6,  7,  8,  9])\n",
    "Y = np.array([4,  9, 16, 25, 36, 49, 64, 81])"
   ],
   "execution_count": 5,
   "outputs": []
  },
  {
   "cell_type": "code",
   "metadata": {
    "id": "KF0OssjUR5ZN",
    "executionInfo": {
     "status": "ok",
     "timestamp": 1611283951986,
     "user_tz": 300,
     "elapsed": 3341,
     "user": {
      "displayName": "Zongyue Zhao",
      "photoUrl": "https://lh3.googleusercontent.com/a-/AOh14GgZOv-2gK1w82DTcCTulfMj-gwUCYYYCKOen7AW7A=s64",
      "userId": "13619135682849869167"
     }
    }
   },
   "source": [
    "class ExampleDataset2(torch.utils.data.Dataset):\n",
    "\n",
    "    def __init__(self, X, Y):\n",
    "\n",
    "        ### Assign data and labels to self (1-2 lines)\n",
    "        self.X = X\n",
    "        self.Y = Y\n",
    "\n",
    "        ### Assert data and labels have the same length (1 line)\n",
    "        assert(len(X) == len(Y))\n",
    "\n",
    "        ### Assign length to self (1 line)\n",
    "        self.length = len(X)\n",
    "\n",
    "    def __len__(self):\n",
    "\n",
    "        ### Return length (1 line)\n",
    "        return self.length\n",
    "\n",
    "    def __getitem__(self, i):\n",
    "\n",
    "        ### Return data and label at index (1 line)\n",
    "        return self.X[i], self.Y[i]\n",
    "\n",
    "    def collate_fn(batch):\n",
    "\n",
    "        ### Select all data from batch (1 line)\n",
    "        batch_x = [x for x,y in batch]\n",
    "\n",
    "        ### Select all labels from batch (1 line)\n",
    "        batch_y = [y for x,y in batch]\n",
    "\n",
    "        ### Convert batched data and labels to tensors (2 lines)\n",
    "        batch_x = torch.as_tensor(batch_x)\n",
    "        batch_y = torch.as_tensor(batch_y)\n",
    "\n",
    "        ### Return batched data and labels (1 line)\n",
    "        return batch_x, batch_y"
   ],
   "execution_count": 6,
   "outputs": []
  },
  {
   "cell_type": "code",
   "metadata": {
    "colab": {
     "base_uri": "https://localhost:8080/"
    },
    "id": "2pa6DGI-R5ZN",
    "executionInfo": {
     "status": "ok",
     "timestamp": 1611283951987,
     "user_tz": 300,
     "elapsed": 3337,
     "user": {
      "displayName": "Zongyue Zhao",
      "photoUrl": "https://lh3.googleusercontent.com/a-/AOh14GgZOv-2gK1w82DTcCTulfMj-gwUCYYYCKOen7AW7A=s64",
      "userId": "13619135682849869167"
     }
    },
    "outputId": "a10f422a-12a0-443c-cd87-fd3b5775d7b2"
   },
   "source": [
    "dataset2 = ExampleDataset2(X, Y)\n",
    "\n",
    "dataloader2 = torch.utils.data.DataLoader(dataset2,\n",
    "                                          batch_size=2,\n",
    "                                          shuffle=False,\n",
    "                                          collate_fn=ExampleDataset2.collate_fn)\n",
    "\n",
    "for i, batch in enumerate(dataloader2):\n",
    "    print(\"Batch\", i, \":\\n\", batch, \"\\n\")"
   ],
   "execution_count": 7,
   "outputs": [
    {
     "name": "stdout",
     "output_type": "stream",
     "text": [
      "Batch 0 :\n",
      " (tensor([2, 3], dtype=torch.int32), tensor([4, 9], dtype=torch.int32)) \n",
      "\n",
      "Batch 1 :\n",
      " (tensor([4, 5], dtype=torch.int32), tensor([16, 25], dtype=torch.int32)) \n",
      "\n",
      "Batch 2 :\n",
      " (tensor([6, 7], dtype=torch.int32), tensor([36, 49], dtype=torch.int32)) \n",
      "\n",
      "Batch 3 :\n",
      " (tensor([8, 9], dtype=torch.int32), tensor([64, 81], dtype=torch.int32)) \n",
      "\n"
     ]
    }
   ]
  },
  {
   "cell_type": "markdown",
   "metadata": {
    "id": "lsmWTVUIR5ZN"
   },
   "source": [
    "---\n",
    "#### Expected Output:\n",
    "\n",
    "```\n",
    "Batch 0 :\n",
    " (tensor([2, 3]), tensor([4, 9]))\n",
    "\n",
    "Batch 1 :\n",
    " (tensor([4, 5]), tensor([16, 25]))\n",
    "\n",
    "Batch 2 :\n",
    " (tensor([6, 7]), tensor([36, 49]))\n",
    "\n",
    "Batch 3 :\n",
    " (tensor([8, 9]), tensor([64, 81]))\n",
    "\n",
    "```\n",
    "---"
   ]
  },
  {
   "cell_type": "markdown",
   "metadata": {
    "id": "DsEWsJbUR5ZN"
   },
   "source": [
    "<hr style=\"border:2px solid gray\"> </hr>"
   ]
  },
  {
   "cell_type": "markdown",
   "metadata": {
    "id": "G_tQtdCXR5ZN"
   },
   "source": [
    "### Example 3"
   ]
  },
  {
   "cell_type": "code",
   "metadata": {
    "id": "_Bbzto09R5ZO",
    "executionInfo": {
     "status": "ok",
     "timestamp": 1611283951987,
     "user_tz": 300,
     "elapsed": 3336,
     "user": {
      "displayName": "Zongyue Zhao",
      "photoUrl": "https://lh3.googleusercontent.com/a-/AOh14GgZOv-2gK1w82DTcCTulfMj-gwUCYYYCKOen7AW7A=s64",
      "userId": "13619135682849869167"
     }
    }
   },
   "source": [
    "X = np.array([ np.array([[ 2,  3,  4],\n",
    "                         [ 4,  6,  8],\n",
    "                         [ 6,  9, 12],\n",
    "                         [ 8, 12, 16]]),\n",
    "               np.array([[10, 15, 20],\n",
    "                         [12, 18, 24]]) ], dtype=object)"
   ],
   "execution_count": 8,
   "outputs": []
  },
  {
   "cell_type": "code",
   "metadata": {
    "id": "QvBlXsz8R5ZO",
    "executionInfo": {
     "status": "ok",
     "timestamp": 1611283951987,
     "user_tz": 300,
     "elapsed": 3335,
     "user": {
      "displayName": "Zongyue Zhao",
      "photoUrl": "https://lh3.googleusercontent.com/a-/AOh14GgZOv-2gK1w82DTcCTulfMj-gwUCYYYCKOen7AW7A=s64",
      "userId": "13619135682849869167"
     }
    }
   },
   "source": [
    "class ExampleDataset3(torch.utils.data.Dataset):\n",
    "\n",
    "    def __init__(self, X):\n",
    "\n",
    "        ### Assign data to self (1 line)\n",
    "        self.X = X\n",
    "\n",
    "        ### Define index mapping (4-6 lines)\n",
    "        index_map_X = []\n",
    "        for i, x in enumerate(X):\n",
    "            for j, xx in enumerate(x):\n",
    "                index_pair_X = (i, j)\n",
    "                index_map_X.append(index_pair_X)\n",
    "\n",
    "        ### Assign index mapping to self (0-1 line)\n",
    "        self.index_map = index_map_X\n",
    "\n",
    "        ### Assign length to self (1 line)\n",
    "        self.length = len(self.index_map)\n",
    "\n",
    "    def __len__(self):\n",
    "\n",
    "        ### Return length (1 line)\n",
    "        return self.length\n",
    "\n",
    "    def __getitem__(self, index):\n",
    "        ### Get index pair from index map (1-2 lines)\n",
    "        i, j = self.index_map[index]\n",
    "\n",
    "        ### Get data at index pair (1 line)\n",
    "        xx = self.X[i][j,:]\n",
    "\n",
    "        ### Return data (1 line)\n",
    "        return xx\n",
    "\n",
    "    def collate_fn(batch):\n",
    "\n",
    "        ### Convert batch to tensor (1 line)\n",
    "        batch_x = torch.as_tensor(batch)\n",
    "\n",
    "        ### Return batched data (1 line)\n",
    "        return batch_x"
   ],
   "execution_count": 9,
   "outputs": []
  },
  {
   "cell_type": "code",
   "metadata": {
    "colab": {
     "base_uri": "https://localhost:8080/"
    },
    "id": "POoJeL49R5ZO",
    "executionInfo": {
     "status": "ok",
     "timestamp": 1611283951988,
     "user_tz": 300,
     "elapsed": 3331,
     "user": {
      "displayName": "Zongyue Zhao",
      "photoUrl": "https://lh3.googleusercontent.com/a-/AOh14GgZOv-2gK1w82DTcCTulfMj-gwUCYYYCKOen7AW7A=s64",
      "userId": "13619135682849869167"
     }
    },
    "outputId": "9c3c6c04-59d6-46cc-df60-1f7e3323c7bf"
   },
   "source": [
    "dataset3 = ExampleDataset3(X)\n",
    "\n",
    "dataloader3 = torch.utils.data.DataLoader(dataset3,\n",
    "                                          batch_size=3,\n",
    "                                          shuffle=False,\n",
    "                                          collate_fn=ExampleDataset3.collate_fn)\n",
    "\n",
    "for i, batch in enumerate(dataloader3):\n",
    "    print(\"Batch\", i, \":\\n\", batch, \"\\n\")"
   ],
   "execution_count": 10,
   "outputs": [
    {
     "name": "stdout",
     "output_type": "stream",
     "text": [
      "Batch 0 :\n",
      " tensor([[ 2,  3,  4],\n",
      "        [ 4,  6,  8],\n",
      "        [ 6,  9, 12]], dtype=torch.int32) \n",
      "\n",
      "Batch 1 :\n",
      " tensor([[ 8, 12, 16],\n",
      "        [10, 15, 20],\n",
      "        [12, 18, 24]], dtype=torch.int32) \n",
      "\n"
     ]
    }
   ]
  },
  {
   "cell_type": "markdown",
   "metadata": {
    "id": "oy6h6jAZR5ZP"
   },
   "source": [
    "---\n",
    "#### Expected Output\n",
    "\n",
    "```\n",
    "Batch 0 :\n",
    " tensor([[ 2,  3,  4],\n",
    "        [ 4,  6,  8],\n",
    "        [ 6,  9, 12]])\n",
    "\n",
    "Batch 1 :\n",
    " tensor([[ 8, 12, 16],\n",
    "        [10, 15, 20],\n",
    "        [12, 18, 24]])\n",
    "```\n",
    "---"
   ]
  },
  {
   "cell_type": "markdown",
   "metadata": {
    "id": "O5q3TBbfR5ZP"
   },
   "source": [
    "<hr style=\"border:2px solid gray\"> </hr>"
   ]
  },
  {
   "cell_type": "markdown",
   "metadata": {
    "id": "aWkjmy2kR5ZP"
   },
   "source": [
    "### Exercise 4"
   ]
  },
  {
   "cell_type": "code",
   "metadata": {
    "id": "OkWDbjQnR5ZP",
    "executionInfo": {
     "status": "ok",
     "timestamp": 1611284539233,
     "user_tz": 300,
     "elapsed": 306,
     "user": {
      "displayName": "Zongyue Zhao",
      "photoUrl": "https://lh3.googleusercontent.com/a-/AOh14GgZOv-2gK1w82DTcCTulfMj-gwUCYYYCKOen7AW7A=s64",
      "userId": "13619135682849869167"
     }
    }
   },
   "source": [
    "X = np.array([ np.array([[ 2,  3,  4],\n",
    "                         [ 4,  6,  8],\n",
    "                         [ 6,  9, 12],\n",
    "                         [ 8, 12, 16]]),\n",
    "               np.array([[10, 15, 20],\n",
    "                         [12, 18, 24]]) ], dtype=object)\n",
    "\n",
    "Y = np.array([ np.array([1, 2, 3, 4]),\n",
    "               np.array([5, 6])], dtype=object)"
   ],
   "execution_count": 11,
   "outputs": []
  },
  {
   "cell_type": "code",
   "metadata": {
    "id": "Ttq4fdHlR5ZP",
    "executionInfo": {
     "status": "ok",
     "timestamp": 1611284666301,
     "user_tz": 300,
     "elapsed": 302,
     "user": {
      "displayName": "Zongyue Zhao",
      "photoUrl": "https://lh3.googleusercontent.com/a-/AOh14GgZOv-2gK1w82DTcCTulfMj-gwUCYYYCKOen7AW7A=s64",
      "userId": "13619135682849869167"
     }
    }
   },
   "source": [
    "class ExampleDataset4(torch.utils.data.Dataset):\n",
    "    #### TODO HERE\n",
    "    def __init__(self, X, Y):\n",
    "\n",
    "        ### Assign data and label to self (1-2 lines)\n",
    "        self.X = X\n",
    "        self.Y = Y\n",
    "\n",
    "        ### Define data index mapping (4-6 lines)\n",
    "        index_map_X = []\n",
    "\n",
    "        for i, x in enumerate(X):\n",
    "            for j, xx in enumerate(x):\n",
    "                index_pair_X = (i, j)\n",
    "                index_map_X.append(index_pair_X)\n",
    "\n",
    "        ### Define label index mapping (4-6 lines)\n",
    "        index_map_Y = []\n",
    "        for i, y in enumerate(Y):\n",
    "            for j, yy in enumerate(y):\n",
    "                index_pair_Y = (i, j)\n",
    "                index_map_Y.append(index_pair_Y)\n",
    "\n",
    "        ### Assert the data index mapping and label index mapping are the same (1 line)\n",
    "        assert(set(index_map_X) == set(index_map_Y))\n",
    "\n",
    "        ### Assign data index mapping to self (1 line)\n",
    "        self.index_map = index_map_X\n",
    "\n",
    "        ### Assign length to self (1 line)\n",
    "        self.length = len(self.index_map)\n",
    "\n",
    "    def __len__(self):\n",
    "\n",
    "        ### Return length (1 line)\n",
    "        return self.length\n",
    "\n",
    "    def __getitem__(self, index):\n",
    "\n",
    "        ### Get index pair from index map (1-2 lines)\n",
    "        i, j = self.index_map[index]\n",
    "\n",
    "        ### Get data at index pair (1 line)\n",
    "        xx = self.X[i][j,:]\n",
    "\n",
    "        ### Get label at index pair (1 line)\n",
    "        yy = self.Y[i][j]\n",
    "\n",
    "        ### Return data at index pair and label at index pair (1 line)\n",
    "        return xx, yy\n",
    "\n",
    "    def collate_fn(batch):\n",
    "\n",
    "        ### Select all data from batch (1 line)\n",
    "        batch_x = [x for x,y in batch]\n",
    "\n",
    "        ### Select all labels from batch (1 line)\n",
    "        batch_y = [y for x,y in batch]\n",
    "\n",
    "        ### Convert batched data and labels to tensors (2 lines)\n",
    "        batch_x = torch.as_tensor(batch_x)\n",
    "        batch_y = torch.as_tensor(batch_y)\n",
    "\n",
    "        ### Return batched data and labels (1 line)\n",
    "        return batch_x, batch_y"
   ],
   "execution_count": 12,
   "outputs": []
  },
  {
   "cell_type": "code",
   "metadata": {
    "id": "G2kR9qWrR5ZP",
    "colab": {
     "base_uri": "https://localhost:8080/"
    },
    "executionInfo": {
     "status": "ok",
     "timestamp": 1611284668555,
     "user_tz": 300,
     "elapsed": 292,
     "user": {
      "displayName": "Zongyue Zhao",
      "photoUrl": "https://lh3.googleusercontent.com/a-/AOh14GgZOv-2gK1w82DTcCTulfMj-gwUCYYYCKOen7AW7A=s64",
      "userId": "13619135682849869167"
     }
    },
    "outputId": "138c08b4-20ff-45ad-9ae5-45093fdae317"
   },
   "source": [
    "dataset4 = ExampleDataset4(X, Y)\n",
    "\n",
    "dataloader4 = torch.utils.data.DataLoader(dataset4,\n",
    "                                          batch_size=3,\n",
    "                                          shuffle=False,\n",
    "                                          collate_fn=ExampleDataset4.collate_fn)\n",
    "\n",
    "\n",
    "for i, batch in enumerate(dataloader4):\n",
    "    print(\"Batch\", i, \":\\n\", batch, \"\\n\")"
   ],
   "execution_count": 13,
   "outputs": [
    {
     "name": "stdout",
     "output_type": "stream",
     "text": [
      "Batch 0 :\n",
      " (tensor([[ 2,  3,  4],\n",
      "        [ 4,  6,  8],\n",
      "        [ 6,  9, 12]], dtype=torch.int32), tensor([1, 2, 3], dtype=torch.int32)) \n",
      "\n",
      "Batch 1 :\n",
      " (tensor([[ 8, 12, 16],\n",
      "        [10, 15, 20],\n",
      "        [12, 18, 24]], dtype=torch.int32), tensor([4, 5, 6], dtype=torch.int32)) \n",
      "\n"
     ]
    }
   ]
  },
  {
   "cell_type": "markdown",
   "metadata": {
    "id": "W3nzYgBqR5ZQ"
   },
   "source": [
    "---\n",
    "#### Expected Output:\n",
    "\n",
    "```\n",
    "Batch 0 :\n",
    " (tensor([[ 2,  3,  4],\n",
    "        [ 4,  6,  8],\n",
    "        [ 6,  9, 12]]), tensor([1, 2, 3]))\n",
    "\n",
    "Batch 1 :\n",
    " (tensor([[ 8, 12, 16],\n",
    "        [10, 15, 20],\n",
    "        [12, 18, 24]]), tensor([4, 5, 6]))\n",
    "```\n",
    "---"
   ]
  },
  {
   "cell_type": "markdown",
   "metadata": {
    "id": "zAuV1GEgR5ZQ"
   },
   "source": [
    "<hr style=\"border:2px solid gray\"> </hr>"
   ]
  },
  {
   "cell_type": "markdown",
   "metadata": {
    "id": "GTXed8IRR5ZQ"
   },
   "source": [
    "### Exercise 5"
   ]
  },
  {
   "cell_type": "code",
   "metadata": {
    "id": "jV2rNJxrR5ZQ",
    "executionInfo": {
     "status": "ok",
     "timestamp": 1611284681010,
     "user_tz": 300,
     "elapsed": 277,
     "user": {
      "displayName": "Zongyue Zhao",
      "photoUrl": "https://lh3.googleusercontent.com/a-/AOh14GgZOv-2gK1w82DTcCTulfMj-gwUCYYYCKOen7AW7A=s64",
      "userId": "13619135682849869167"
     }
    }
   },
   "source": [
    "X = np.array([ np.array([[ 2,  3,  4],\n",
    "                         [ 4,  6,  8],\n",
    "                         [ 6,  9, 12],\n",
    "                         [ 8, 12, 16]]),\n",
    "               np.array([[10, 15, 20],\n",
    "                         [12, 18, 24]]) ], dtype=object)"
   ],
   "execution_count": 14,
   "outputs": []
  },
  {
   "cell_type": "code",
   "metadata": {
    "id": "FtX0PGAVR5ZQ",
    "executionInfo": {
     "status": "ok",
     "timestamp": 1611285310307,
     "user_tz": 300,
     "elapsed": 294,
     "user": {
      "displayName": "Zongyue Zhao",
      "photoUrl": "https://lh3.googleusercontent.com/a-/AOh14GgZOv-2gK1w82DTcCTulfMj-gwUCYYYCKOen7AW7A=s64",
      "userId": "13619135682849869167"
     }
    }
   },
   "source": [
    "class ExampleDataset5(torch.utils.data.Dataset):\n",
    "\n",
    "    def __init__(self, X, offset=1, context=1):\n",
    "\n",
    "        ### Assign data to self (1 line)\n",
    "        self.X = X\n",
    "\n",
    "        ### Define data index mapping (4-6 lines)\n",
    "        mapping = []\n",
    "\n",
    "        for i, data_obj in enumerate(X):\n",
    "            for j, data in enumerate(data_obj):\n",
    "                ind = (i, j)\n",
    "                mapping.append(ind)\n",
    "\n",
    "        ### Assign data index mapping to self (1 line)\n",
    "        self.mapping = mapping\n",
    "\n",
    "        ### Assign length to self (1 line)\n",
    "        self.length = len(self.mapping)\n",
    "\n",
    "        ### Add context and offset to self (1-2 line)\n",
    "        self.context = context\n",
    "        self.offset = offset\n",
    "\n",
    "        ### Zero pad data as-needed for context size = 1 (1-2 lines)\n",
    "        for i, x in enumerate(self.X):\n",
    "            self.X[i] = np.pad(x, ((1, 1), (0, 0)), 'constant', constant_values=0)\n",
    "\n",
    "    def __len__(self):\n",
    "\n",
    "        ### Return length (1 line)\n",
    "        return self.length\n",
    "\n",
    "    def __getitem__(self, index):\n",
    "\n",
    "        ### Get index pair from index map (1-2 lines)\n",
    "        i, j = self.mapping[index]\n",
    "\n",
    "        ### Calculate starting timestep using offset and context (1 line)\n",
    "        start_j = j + self.offset - self.context\n",
    "\n",
    "        ### Calculate ending timestep using offset and context (1 line)\n",
    "        end_j = j + self.offset + self.context + 1\n",
    "\n",
    "        ### Get data at index pair with context (1 line)\n",
    "        xx = self.X[i][start_j:end_j,:]\n",
    "\n",
    "        ### Return data (1 line)\n",
    "        return xx\n",
    "\n",
    "    def collate_fn(batch):\n",
    "\n",
    "        ### Convert batch to tensor (1 line)\n",
    "        batch = torch.as_tensor(batch)\n",
    "\n",
    "        ### Return batched data and labels (1 line)\n",
    "        return batch"
   ],
   "execution_count": 15,
   "outputs": []
  },
  {
   "cell_type": "code",
   "metadata": {
    "id": "MA3fumMiR5ZR",
    "colab": {
     "base_uri": "https://localhost:8080/"
    },
    "executionInfo": {
     "status": "ok",
     "timestamp": 1611285311851,
     "user_tz": 300,
     "elapsed": 313,
     "user": {
      "displayName": "Zongyue Zhao",
      "photoUrl": "https://lh3.googleusercontent.com/a-/AOh14GgZOv-2gK1w82DTcCTulfMj-gwUCYYYCKOen7AW7A=s64",
      "userId": "13619135682849869167"
     }
    },
    "outputId": "7ac8475f-2b2b-4322-af8b-9cf112b9820d"
   },
   "source": [
    "dataset5 = ExampleDataset5(X)\n",
    "\n",
    "dataloader5 = torch.utils.data.DataLoader(dataset5,\n",
    "                                         batch_size=2,\n",
    "                                         shuffle=False,\n",
    "                                         collate_fn=ExampleDataset5.collate_fn)\n",
    "\n",
    "for i, batch in enumerate(dataloader5):\n",
    "    print(\"Batch\", i, \":\\n\", batch, \"\\n\")"
   ],
   "execution_count": 16,
   "outputs": [
    {
     "name": "stdout",
     "output_type": "stream",
     "text": [
      "Batch 0 :\n",
      " tensor([[[ 0,  0,  0],\n",
      "         [ 2,  3,  4],\n",
      "         [ 4,  6,  8]],\n",
      "\n",
      "        [[ 2,  3,  4],\n",
      "         [ 4,  6,  8],\n",
      "         [ 6,  9, 12]]], dtype=torch.int32) \n",
      "\n",
      "Batch 1 :\n",
      " tensor([[[ 4,  6,  8],\n",
      "         [ 6,  9, 12],\n",
      "         [ 8, 12, 16]],\n",
      "\n",
      "        [[ 6,  9, 12],\n",
      "         [ 8, 12, 16],\n",
      "         [ 0,  0,  0]]], dtype=torch.int32) \n",
      "\n",
      "Batch 2 :\n",
      " tensor([[[ 0,  0,  0],\n",
      "         [10, 15, 20],\n",
      "         [12, 18, 24]],\n",
      "\n",
      "        [[10, 15, 20],\n",
      "         [12, 18, 24],\n",
      "         [ 0,  0,  0]]], dtype=torch.int32) \n",
      "\n"
     ]
    }
   ]
  },
  {
   "cell_type": "markdown",
   "metadata": {
    "id": "pXgcl3fOR5ZR"
   },
   "source": [
    "---\n",
    "#### Expected Output:\n",
    "\n",
    "```\n",
    "Batch 0 :\n",
    " tensor([[[ 0,  0,  0],\n",
    "         [ 2,  3,  4],\n",
    "         [ 4,  6,  8]],\n",
    "\n",
    "        [[ 2,  3,  4],\n",
    "         [ 4,  6,  8],\n",
    "         [ 6,  9, 12]]])\n",
    "\n",
    "Batch 1 :\n",
    " tensor([[[ 4,  6,  8],\n",
    "         [ 6,  9, 12],\n",
    "         [ 8, 12, 16]],\n",
    "\n",
    "        [[ 6,  9, 12],\n",
    "         [ 8, 12, 16],\n",
    "         [ 0,  0,  0]]])\n",
    "\n",
    "Batch 2 :\n",
    " tensor([[[ 0,  0,  0],\n",
    "         [10, 15, 20],\n",
    "         [12, 18, 24]],\n",
    "\n",
    "        [[10, 15, 20],\n",
    "         [12, 18, 24],\n",
    "         [ 0,  0,  0]]])\n",
    "```\n",
    "---"
   ]
  },
  {
   "cell_type": "markdown",
   "metadata": {
    "id": "6r2hGDv6R5ZR"
   },
   "source": [
    "<hr style=\"border:2px solid gray\"> </hr>"
   ]
  },
  {
   "cell_type": "markdown",
   "metadata": {
    "id": "Iw4sB1gLR5ZR"
   },
   "source": [
    "### Exercise 6"
   ]
  },
  {
   "cell_type": "code",
   "metadata": {
    "id": "ma152mJWR5ZR",
    "executionInfo": {
     "status": "ok",
     "timestamp": 1611287323518,
     "user_tz": 300,
     "elapsed": 303,
     "user": {
      "displayName": "Zongyue Zhao",
      "photoUrl": "https://lh3.googleusercontent.com/a-/AOh14GgZOv-2gK1w82DTcCTulfMj-gwUCYYYCKOen7AW7A=s64",
      "userId": "13619135682849869167"
     }
    }
   },
   "source": [
    "X = np.array([ np.array([[ 2,  3,  4],\n",
    "              [ 4,  6,  8],\n",
    "              [ 6,  9, 12],\n",
    "              [ 8, 12, 16]]),\n",
    "               np.array([[10, 15, 20],\n",
    "                    [12, 18, 24]]) ], dtype=object)\n",
    "\n",
    "Y = np.array([ np.array([1, 2, 3, 4]),\n",
    "         np.array([5, 6])], dtype=object)"
   ],
   "execution_count": 17,
   "outputs": []
  },
  {
   "cell_type": "code",
   "metadata": {
    "id": "TrBU7znuR5ZR",
    "executionInfo": {
     "status": "ok",
     "timestamp": 1611287325941,
     "user_tz": 300,
     "elapsed": 302,
     "user": {
      "displayName": "Zongyue Zhao",
      "photoUrl": "https://lh3.googleusercontent.com/a-/AOh14GgZOv-2gK1w82DTcCTulfMj-gwUCYYYCKOen7AW7A=s64",
      "userId": "13619135682849869167"
     }
    }
   },
   "source": [
    "class ExampleDataset6(torch.utils.data.Dataset):\n",
    "\n",
    "    def __init__(self, X, Y, offset=1, context=1):\n",
    "\n",
    "        ### Add data and label to self (1-2 lines)\n",
    "        self.X = X\n",
    "        self.Y = Y\n",
    "\n",
    "        ### Define data index mapping (4-6 lines)\n",
    "        mapping = []\n",
    "        for i, data_obj in enumerate(X):\n",
    "            for j, data in enumerate(data_obj):\n",
    "                ind = (i, j)\n",
    "                mapping.append(ind)\n",
    "\n",
    "        ### Define label index mapping (4-6 lines)\n",
    "        mapping_Y = []\n",
    "        for i, data_obj in enumerate(Y):\n",
    "            for j, data in enumerate(data_obj):\n",
    "                ind = (i, j)\n",
    "                mapping_Y.append(ind)\n",
    "\n",
    "        ### Assert the data index mapping and label index mapping are the same (1 line)\n",
    "        # print(mapping)\n",
    "        # print(mapping_Y)\n",
    "        assert(set(mapping) == set(mapping_Y))\n",
    "\n",
    "        ### Assign data index mapping to self (1 line)\n",
    "        self.mapping = mapping\n",
    "\n",
    "        ### Add length to self (1 line)\n",
    "        self.length = len(self.mapping)\n",
    "\n",
    "        ### Add context and offset to self (1-2 line)\n",
    "        self.context = context\n",
    "        self.offset = offset\n",
    "\n",
    "        ### Zero pad data as-needed for context size = 1 (1-2 lines)\n",
    "\n",
    "        for i, x in enumerate(self.X):\n",
    "            self.X[i] = np.pad(x, ((1, 1), (0, 0)), 'constant', constant_values=0)\n",
    "\n",
    "        # for i,y in enumerate(self.Y):\n",
    "        #   self.Y[i] = np.pad(y,1,'constant',constant_values=0)\n",
    "\n",
    "    def __len__(self):\n",
    "\n",
    "        ### Return length (1 line)\n",
    "        return self.length\n",
    "\n",
    "    def __getitem__(self, index):\n",
    "\n",
    "        ### Get index pair from index map (1-2 lines)\n",
    "        i, j = self.mapping[index]\n",
    "\n",
    "        ### Calculate starting timestep using offset and context (1 line)\n",
    "        start_j = j + self.offset - self.context\n",
    "\n",
    "        ### Calculate ending timestep using offset and context (1 line)\n",
    "        end_j = j + self.offset + self.context + 1\n",
    "\n",
    "        ### Get data at index pair with context (1 line)\n",
    "        xx = self.X[i][start_j:end_j]\n",
    "\n",
    "        ### Get label at index pair (1 line)\n",
    "        yy = self.Y[i][j]\n",
    "\n",
    "        ### Return data at index pair with context and label at index pair (1 line)\n",
    "        return xx, yy\n",
    "\n",
    "    def collate_fn(batch):\n",
    "\n",
    "        ### Select all data from batch (1 line)\n",
    "        b_x = [x for x,y in batch]\n",
    "\n",
    "        ### Select all labels from batch (1 line)\n",
    "        b_y = [y for x,y in batch]\n",
    "\n",
    "        ### Convert batched data and labels to tensors (2 lines)\n",
    "        bx = torch.as_tensor(b_x)\n",
    "\n",
    "        # print(b_y)\n",
    "        by = torch.as_tensor(b_y)\n",
    "\n",
    "        ### Return batched data and labels (1 line)\n",
    "        return bx, by"
   ],
   "execution_count": 18,
   "outputs": []
  },
  {
   "cell_type": "code",
   "metadata": {
    "id": "ASm78HFhR5ZS",
    "colab": {
     "base_uri": "https://localhost:8080/"
    },
    "executionInfo": {
     "status": "ok",
     "timestamp": 1611287327672,
     "user_tz": 300,
     "elapsed": 297,
     "user": {
      "displayName": "Zongyue Zhao",
      "photoUrl": "https://lh3.googleusercontent.com/a-/AOh14GgZOv-2gK1w82DTcCTulfMj-gwUCYYYCKOen7AW7A=s64",
      "userId": "13619135682849869167"
     }
    },
    "outputId": "67e00396-a4d4-4cdb-ef13-8c5488b42117"
   },
   "source": [
    "dataset6 = ExampleDataset6(X, Y)\n",
    "\n",
    "dataloader6 = torch.utils.data.DataLoader(dataset6,\n",
    "                                         batch_size=2,\n",
    "                                         shuffle=False,\n",
    "                                         collate_fn=ExampleDataset6.collate_fn)\n",
    "\n",
    "for i, batch in enumerate(dataloader6):\n",
    "    print(\"Batch\", i, \":\\n\", batch, \"\\n\")"
   ],
   "execution_count": 19,
   "outputs": [
    {
     "name": "stdout",
     "output_type": "stream",
     "text": [
      "Batch 0 :\n",
      " (tensor([[[ 0,  0,  0],\n",
      "         [ 2,  3,  4],\n",
      "         [ 4,  6,  8]],\n",
      "\n",
      "        [[ 2,  3,  4],\n",
      "         [ 4,  6,  8],\n",
      "         [ 6,  9, 12]]], dtype=torch.int32), tensor([1, 2], dtype=torch.int32)) \n",
      "\n",
      "Batch 1 :\n",
      " (tensor([[[ 4,  6,  8],\n",
      "         [ 6,  9, 12],\n",
      "         [ 8, 12, 16]],\n",
      "\n",
      "        [[ 6,  9, 12],\n",
      "         [ 8, 12, 16],\n",
      "         [ 0,  0,  0]]], dtype=torch.int32), tensor([3, 4], dtype=torch.int32)) \n",
      "\n",
      "Batch 2 :\n",
      " (tensor([[[ 0,  0,  0],\n",
      "         [10, 15, 20],\n",
      "         [12, 18, 24]],\n",
      "\n",
      "        [[10, 15, 20],\n",
      "         [12, 18, 24],\n",
      "         [ 0,  0,  0]]], dtype=torch.int32), tensor([5, 6], dtype=torch.int32)) \n",
      "\n"
     ]
    }
   ]
  },
  {
   "cell_type": "markdown",
   "metadata": {
    "id": "9hOO0H02R5ZS"
   },
   "source": [
    "---\n",
    "#### Expected Output:\n",
    "```\n",
    "Batch 0 :\n",
    " (tensor([[[ 0,  0,  0],\n",
    "         [ 2,  3,  4],\n",
    "         [ 4,  6,  8]],\n",
    "\n",
    "        [[ 2,  3,  4],\n",
    "         [ 4,  6,  8],\n",
    "         [ 6,  9, 12]]]), tensor([1, 2]))\n",
    "\n",
    "Batch 1 :\n",
    " (tensor([[[ 4,  6,  8],\n",
    "         [ 6,  9, 12],\n",
    "         [ 8, 12, 16]],\n",
    "\n",
    "        [[ 6,  9, 12],\n",
    "         [ 8, 12, 16],\n",
    "         [ 0,  0,  0]]]), tensor([3, 4]))\n",
    "\n",
    "Batch 2 :\n",
    " (tensor([[[ 0,  0,  0],\n",
    "         [10, 15, 20],\n",
    "         [12, 18, 24]],\n",
    "\n",
    "        [[10, 15, 20],\n",
    "         [12, 18, 24],\n",
    "         [ 0,  0,  0]]]), tensor([5, 6]))\n",
    "```\n",
    "---"
   ]
  },
  {
   "cell_type": "markdown",
   "metadata": {
    "id": "UzU8RYSUR5ZS"
   },
   "source": [
    "### Exercise 7"
   ]
  },
  {
   "cell_type": "code",
   "metadata": {
    "id": "esUasc8TR5ZS",
    "colab": {
     "base_uri": "https://localhost:8080/"
    },
    "executionInfo": {
     "status": "ok",
     "timestamp": 1611287378891,
     "user_tz": 300,
     "elapsed": 433,
     "user": {
      "displayName": "Zongyue Zhao",
      "photoUrl": "https://lh3.googleusercontent.com/a-/AOh14GgZOv-2gK1w82DTcCTulfMj-gwUCYYYCKOen7AW7A=s64",
      "userId": "13619135682849869167"
     }
    },
    "outputId": "53c86a9f-c921-4385-b797-93f4d63177da"
   },
   "source": [
    "!nvidia-smi"
   ],
   "execution_count": 20,
   "outputs": [
    {
     "name": "stderr",
     "output_type": "stream",
     "text": [
      "'nvidia-smi' is not recognized as an internal or external command,\n",
      "operable program or batch file.\n"
     ]
    }
   ]
  },
  {
   "cell_type": "markdown",
   "metadata": {
    "id": "_OgBoOlNR5ZS"
   },
   "source": [
    "---\n",
    "#### Expected Output (your result should look similar, but not exactly the same):\n",
    "```\n",
    "+-----------------------------------------------------------------------------+\n",
    "| NVIDIA-SMI 460.27.04    Driver Version: 460.27.04    CUDA Version: 11.2     |\n",
    "|-------------------------------+----------------------+----------------------+\n",
    "| GPU  Name        Persistence-M| Bus-Id        Disp.A | Volatile Uncorr. ECC |\n",
    "| Fan  Temp  Perf  Pwr:Usage/Cap|         Memory-Usage | GPU-Util  Compute M. |\n",
    "|                               |                      |               MIG M. |\n",
    "|===============================+======================+======================|\n",
    "|   0  GeForce RTX 207...  Off  | 00000000:01:00.0 Off |                  N/A |\n",
    "| N/A   40C    P8     9W /  N/A |      5MiB /  7982MiB |      0%      Default |\n",
    "|                               |                      |                  N/A |\n",
    "+-------------------------------+----------------------+----------------------+\n",
    "\n",
    "+-----------------------------------------------------------------------------+\n",
    "| Processes:                                                                  |\n",
    "|  GPU   GI   CI        PID   Type   Process name                  GPU Memory |\n",
    "|        ID   ID                                                   Usage      |\n",
    "|=============================================================================|\n",
    "|    0   N/A  N/A       970      G   /usr/lib/xorg/Xorg                  4MiB |\n",
    "+-----------------------------------------------------------------------------+\n",
    "```\n",
    "---"
   ]
  },
  {
   "cell_type": "code",
   "metadata": {
    "id": "aRjW-18hR5ZS",
    "executionInfo": {
     "status": "ok",
     "timestamp": 1611287382052,
     "user_tz": 300,
     "elapsed": 283,
     "user": {
      "displayName": "Zongyue Zhao",
      "photoUrl": "https://lh3.googleusercontent.com/a-/AOh14GgZOv-2gK1w82DTcCTulfMj-gwUCYYYCKOen7AW7A=s64",
      "userId": "13619135682849869167"
     }
    }
   },
   "source": [],
   "execution_count": 20,
   "outputs": []
  }
 ]
}