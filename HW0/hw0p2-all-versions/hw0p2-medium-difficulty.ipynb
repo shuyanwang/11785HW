{
 "cells": [
  {
   "cell_type": "markdown",
   "metadata": {},
   "source": [
    "## Homework 0 Part 2: Data Loaders\n",
    "\n",
    "In this assignment, you will be provided with data and an expected result. Your task is to fill out the starter code to obtain the expected result. Do not modify the data (X or Y), and do not modify the instantiation of the dataset or dataloader.\n",
    "\n",
    "All three versions -- easy difficulty, medium difficulty, and hard difficulty -- have the same solution code and the same examples. We recommend starting with the easy difficulty. Once you get the expected results with the easy difficulty, try again with the medium difficulty. If you want to challenge yourself, try again with the hard difficulty.\n",
    "\n",
    "CUDA is not required to complete most of this assignment, but it is required to execute the final command. Please use AWS to access CUDA available resources by following the recitation."
   ]
  },
  {
   "cell_type": "markdown",
   "metadata": {},
   "source": [
    "<hr style=\"border:2px solid gray\"> </hr>"
   ]
  },
  {
   "cell_type": "code",
   "execution_count": null,
   "metadata": {},
   "outputs": [],
   "source": [
    "import numpy as np\n",
    "import torch"
   ]
  },
  {
   "cell_type": "markdown",
   "metadata": {},
   "source": [
    "<hr style=\"border:2px solid gray\"> </hr>"
   ]
  },
  {
   "cell_type": "markdown",
   "metadata": {},
   "source": [
    "### Exercise 1"
   ]
  },
  {
   "cell_type": "code",
   "execution_count": null,
   "metadata": {},
   "outputs": [],
   "source": [
    "X = np.array([2,  3,  4,  5,  6,  7,  8,  9])"
   ]
  },
  {
   "cell_type": "code",
   "execution_count": null,
   "metadata": {},
   "outputs": [],
   "source": [
    "class ExampleDataset1(torch.utils.data.Dataset):\n",
    "    \n",
    "    def __init__(self, X):\n",
    "        \n",
    "        ### Assign data to self (1 line)\n",
    "\n",
    "        \n",
    "        ### Assign length to self (1 line)\n",
    "\n",
    "        \n",
    "    def __len__(self):\n",
    "        \n",
    "        ### Return length (1 line)\n",
    "\n",
    "        \n",
    "    def __getitem__(self, i):\n",
    "        \n",
    "        ### Return data at index i (1 line)\n",
    "\n",
    "        \n",
    "    def collate_fn(batch):\n",
    "        \n",
    "        ### Convert batch to tensor (1 line)\n",
    "\n",
    "        \n",
    "        ### Return batched data and labels (1 line)\n",
    "\n",
    "        "
   ]
  },
  {
   "cell_type": "code",
   "execution_count": null,
   "metadata": {},
   "outputs": [],
   "source": [
    "dataset1 = ExampleDataset1(X)\n",
    "\n",
    "dataloader1 = torch.utils.data.DataLoader(dataset1,\n",
    "                                          batch_size=2, \n",
    "                                          shuffle=False,\n",
    "                                          collate_fn=ExampleDataset1.collate_fn)\n",
    "\n",
    "for i, batch in enumerate(dataloader1):\n",
    "    print(\"Batch\", i, \":\\n\", batch, \"\\n\")"
   ]
  },
  {
   "cell_type": "markdown",
   "metadata": {},
   "source": [
    "---\n",
    "#### Expected Output:\n",
    "```\n",
    "Batch 0 :\n",
    " tensor([2, 3]) \n",
    "\n",
    "Batch 1 :\n",
    " tensor([4, 5]) \n",
    "\n",
    "Batch 2 :\n",
    " tensor([6, 7]) \n",
    "\n",
    "Batch 3 :\n",
    " tensor([8, 9]) \n",
    "```\n",
    "---"
   ]
  },
  {
   "cell_type": "markdown",
   "metadata": {},
   "source": [
    "<hr style=\"border:2px solid gray\"> </hr>"
   ]
  },
  {
   "cell_type": "markdown",
   "metadata": {},
   "source": [
    "### Exercise 2"
   ]
  },
  {
   "cell_type": "code",
   "execution_count": null,
   "metadata": {},
   "outputs": [],
   "source": [
    "X = np.array([2,  3,  4,  5,  6,  7,  8,  9])\n",
    "Y = np.array([4,  9, 16, 25, 36, 49, 64, 81])"
   ]
  },
  {
   "cell_type": "code",
   "execution_count": null,
   "metadata": {},
   "outputs": [],
   "source": [
    "class ExampleDataset2(torch.utils.data.Dataset):\n",
    "    \n",
    "    def __init__(self, X, Y):\n",
    "        \n",
    "        ### Assign data and labels to self (1-2 lines)\n",
    "\n",
    "\n",
    "        \n",
    "        ### Assert data and labels have the same length (1 line)\n",
    "\n",
    "        \n",
    "        ### Assign length to self (1 line)\n",
    "\n",
    "        \n",
    "    def __len__(self):\n",
    "        \n",
    "        ### Return length (1 line)\n",
    "\n",
    "        \n",
    "    def __getitem__(self, i):\n",
    "        \n",
    "        ### Return data and label at index (1 line)\n",
    "\n",
    "        \n",
    "    def collate_fn(batch):\n",
    "        \n",
    "        ### Select all data from batch (1 line)\n",
    "\n",
    "        \n",
    "        ### Select all labels from batch (1 line)\n",
    "\n",
    "        \n",
    "        ### Convert batched data and labels to tensors (2 lines)\n",
    "\n",
    "\n",
    "        \n",
    "        ### Return batched data and labels (1 line)\n",
    "\n",
    "        "
   ]
  },
  {
   "cell_type": "code",
   "execution_count": null,
   "metadata": {},
   "outputs": [],
   "source": [
    "dataset2 = ExampleDataset2(X, Y)\n",
    "\n",
    "dataloader2 = torch.utils.data.DataLoader(dataset2,\n",
    "                                          batch_size=2, \n",
    "                                          shuffle=False,\n",
    "                                          collate_fn=ExampleDataset2.collate_fn)\n",
    "\n",
    "for i, batch in enumerate(dataloader2):\n",
    "    print(\"Batch\", i, \":\\n\", batch, \"\\n\")"
   ]
  },
  {
   "cell_type": "markdown",
   "metadata": {},
   "source": [
    "---\n",
    "#### Expected Output:\n",
    "\n",
    "```\n",
    "Batch 0 :\n",
    " (tensor([2, 3]), tensor([4, 9])) \n",
    "\n",
    "Batch 1 :\n",
    " (tensor([4, 5]), tensor([16, 25])) \n",
    "\n",
    "Batch 2 :\n",
    " (tensor([6, 7]), tensor([36, 49])) \n",
    "\n",
    "Batch 3 :\n",
    " (tensor([8, 9]), tensor([64, 81])) \n",
    "\n",
    "```\n",
    "---"
   ]
  },
  {
   "cell_type": "markdown",
   "metadata": {},
   "source": [
    "<hr style=\"border:2px solid gray\"> </hr>"
   ]
  },
  {
   "cell_type": "markdown",
   "metadata": {},
   "source": [
    "### Example 3"
   ]
  },
  {
   "cell_type": "code",
   "execution_count": null,
   "metadata": {},
   "outputs": [],
   "source": [
    "X = np.array([ np.array([[ 2,  3,  4],\n",
    "                         [ 4,  6,  8],\n",
    "                         [ 6,  9, 12],\n",
    "                         [ 8, 12, 16]]),\n",
    "               np.array([[10, 15, 20],\n",
    "                         [12, 18, 24]]) ], dtype=object)"
   ]
  },
  {
   "cell_type": "code",
   "execution_count": null,
   "metadata": {},
   "outputs": [],
   "source": [
    "class ExampleDataset3(torch.utils.data.Dataset):\n",
    "    \n",
    "    def __init__(self, X):\n",
    "        \n",
    "        ### Assign data to self (1 line)\n",
    "\n",
    "        \n",
    "        ### Define index mapping (4-6 lines)\n",
    "\n",
    "        \n",
    "        \n",
    "        \n",
    "        \n",
    "        \n",
    "        \n",
    "        ### Assign index mapping to self (0-1 line)\n",
    "\n",
    "        \n",
    "        ### Assign length to self (1 line)\n",
    "\n",
    "        \n",
    "    def __len__(self):\n",
    "        \n",
    "        ### Return length (1 line)\n",
    "\n",
    "        \n",
    "    def __getitem__(self, index):\n",
    "        \n",
    "        ### Get index pair from index map (1-2 lines)\n",
    "\n",
    "        \n",
    "        ### Get data at index pair (1 line)\n",
    "\n",
    "        \n",
    "        ### Return data (1 line)\n",
    "\n",
    "        \n",
    "    def collate_fn(batch):\n",
    "        \n",
    "        ### Convert batch to tensor (1 line)\n",
    "\n",
    "        \n",
    "        ### Return batched data (1 line)\n",
    "\n",
    "        "
   ]
  },
  {
   "cell_type": "code",
   "execution_count": null,
   "metadata": {},
   "outputs": [],
   "source": [
    "dataset3 = ExampleDataset3(X)\n",
    "\n",
    "dataloader3 = torch.utils.data.DataLoader(dataset3,\n",
    "                                          batch_size=3, \n",
    "                                          shuffle=False,\n",
    "                                          collate_fn=ExampleDataset3.collate_fn)\n",
    "\n",
    "for i, batch in enumerate(dataloader3):\n",
    "    print(\"Batch\", i, \":\\n\", batch, \"\\n\")"
   ]
  },
  {
   "cell_type": "markdown",
   "metadata": {},
   "source": [
    "---\n",
    "#### Expected Output\n",
    "\n",
    "```\n",
    "Batch 0 :\n",
    " tensor([[ 2,  3,  4],\n",
    "        [ 4,  6,  8],\n",
    "        [ 6,  9, 12]]) \n",
    "\n",
    "Batch 1 :\n",
    " tensor([[ 8, 12, 16],\n",
    "        [10, 15, 20],\n",
    "        [12, 18, 24]]) \n",
    "```\n",
    "---"
   ]
  },
  {
   "cell_type": "markdown",
   "metadata": {},
   "source": [
    "<hr style=\"border:2px solid gray\"> </hr>"
   ]
  },
  {
   "cell_type": "markdown",
   "metadata": {},
   "source": [
    "### Exercise 4"
   ]
  },
  {
   "cell_type": "code",
   "execution_count": null,
   "metadata": {},
   "outputs": [],
   "source": [
    "X = np.array([ np.array([[ 2,  3,  4],\n",
    "                         [ 4,  6,  8],\n",
    "                         [ 6,  9, 12],\n",
    "                         [ 8, 12, 16]]),\n",
    "               np.array([[10, 15, 20],\n",
    "                         [12, 18, 24]]) ], dtype=object)\n",
    "\n",
    "Y = np.array([ np.array([1, 2, 3, 4]), \n",
    "               np.array([5, 6])], dtype=object)"
   ]
  },
  {
   "cell_type": "code",
   "execution_count": null,
   "metadata": {},
   "outputs": [],
   "source": [
    "class ExampleDataset4(torch.utils.data.Dataset):\n",
    "    \n",
    "    def __init__(self, X, Y):\n",
    "        \n",
    "        ### Assign data and label to self (1-2 lines)\n",
    "\n",
    "        \n",
    "        \n",
    "        ### Define data index mapping (4-6 lines)\n",
    "        \n",
    "        \n",
    "        \n",
    "        \n",
    "        \n",
    "        \n",
    "                \n",
    "        ### Define label index mapping (4-6 lines)\n",
    "        \n",
    "        \n",
    "        \n",
    "        \n",
    "        \n",
    "        \n",
    "            \n",
    "        ### Assert the data index mapping and label index mapping are the same (1 line)\n",
    "\n",
    "        \n",
    "        ### Assign data index mapping to self (1 line)\n",
    "\n",
    "        \n",
    "        ### Assign length to self (1 line)\n",
    "\n",
    "        \n",
    "    def __len__(self):\n",
    "\n",
    "        ### Return length (1 line)\n",
    "\n",
    "        \n",
    "    def __getitem__(self, index):\n",
    "        \n",
    "        ### Get index pair from index map (1-2 lines)\n",
    "\n",
    "        \n",
    "        ### Get data at index pair (1 line)\n",
    "\n",
    "        \n",
    "        ### Get label at index pair (1 line)\n",
    "\n",
    "        \n",
    "        ### Return data at index pair and label at index pair (1 line)\n",
    "\n",
    "        \n",
    "    def collate_fn(batch):\n",
    "        \n",
    "        ### Select all data from batch (1 line)\n",
    "\n",
    "        \n",
    "        ### Select all labels from batch (1 line)\n",
    "\n",
    "        \n",
    "        ### Convert batched data and labels to tensors (2 lines)\n",
    "\n",
    "\n",
    "        \n",
    "        ### Return batched data and labels (1 line)\n",
    "\n",
    "        "
   ]
  },
  {
   "cell_type": "code",
   "execution_count": null,
   "metadata": {},
   "outputs": [],
   "source": [
    "dataset4 = ExampleDataset4(X, Y)\n",
    "\n",
    "dataloader4 = torch.utils.data.DataLoader(dataset4,\n",
    "                                          batch_size=3, \n",
    "                                          shuffle=False,\n",
    "                                          collate_fn=ExampleDataset4.collate_fn)\n",
    "\n",
    "\n",
    "for i, batch in enumerate(dataloader4):\n",
    "    print(\"Batch\", i, \":\\n\", batch, \"\\n\")"
   ]
  },
  {
   "cell_type": "markdown",
   "metadata": {},
   "source": [
    "---\n",
    "#### Expected Output:\n",
    "\n",
    "```\n",
    "Batch 0 :\n",
    " (tensor([[ 2,  3,  4],\n",
    "        [ 4,  6,  8],\n",
    "        [ 6,  9, 12]]), tensor([1, 2, 3])) \n",
    "\n",
    "Batch 1 :\n",
    " (tensor([[ 8, 12, 16],\n",
    "        [10, 15, 20],\n",
    "        [12, 18, 24]]), tensor([4, 5, 6]))\n",
    "```\n",
    "---"
   ]
  },
  {
   "cell_type": "markdown",
   "metadata": {},
   "source": [
    "<hr style=\"border:2px solid gray\"> </hr>"
   ]
  },
  {
   "cell_type": "markdown",
   "metadata": {},
   "source": [
    "### Exercise 5"
   ]
  },
  {
   "cell_type": "code",
   "execution_count": null,
   "metadata": {},
   "outputs": [],
   "source": [
    "X = np.array([ np.array([[ 2,  3,  4],\n",
    "                         [ 4,  6,  8],\n",
    "                         [ 6,  9, 12],\n",
    "                         [ 8, 12, 16]]),\n",
    "               np.array([[10, 15, 20],\n",
    "                         [12, 18, 24]]) ], dtype=object)"
   ]
  },
  {
   "cell_type": "code",
   "execution_count": null,
   "metadata": {},
   "outputs": [],
   "source": [
    "class ExampleDataset5(torch.utils.data.Dataset):\n",
    "    \n",
    "    def __init__(self, X, offset=1, context=1):\n",
    "        \n",
    "        ### Assign data to self (1 line)\n",
    "\n",
    "        \n",
    "        ### Define data index mapping (4-6 lines)\n",
    "\n",
    "        \n",
    "        \n",
    "        \n",
    "        \n",
    "        \n",
    "        \n",
    "                \n",
    "        ### Assign data index mapping to self (1 line)\n",
    "\n",
    "        \n",
    "        ### Assign length to self (1 line)\n",
    "\n",
    "        \n",
    "        ### Add context and offset to self (1-2 line)\n",
    "        \n",
    "        \n",
    "        \n",
    "        ### Zero pad data as-needed for context size = 1 (1-2 lines)\n",
    "        \n",
    "        \n",
    "        \n",
    "    def __len__(self):\n",
    "        \n",
    "        ### Return length (1 line)\n",
    "\n",
    "        \n",
    "    def __getitem__(self, index):\n",
    "        \n",
    "        ### Get index pair from index map (1-2 lines)\n",
    "\n",
    "        \n",
    "        ### Calculate starting timestep using offset and context (1 line)\n",
    "\n",
    "        \n",
    "        ### Calculate ending timestep using offset and context (1 line)\n",
    "\n",
    "        \n",
    "        ### Get data at index pair with context (1 line)\n",
    "\n",
    "        \n",
    "        ### Return data (1 line)\n",
    "\n",
    "        \n",
    "    def collate_fn(batch):\n",
    "        \n",
    "        ### Convert batch to tensor (1 line)\n",
    "\n",
    "        \n",
    "        ### Return batched data and labels (1 line)\n",
    "\n",
    "        "
   ]
  },
  {
   "cell_type": "code",
   "execution_count": null,
   "metadata": {},
   "outputs": [],
   "source": [
    "dataset5 = ExampleDataset5(X)\n",
    "\n",
    "dataloader5 = torch.utils.data.DataLoader(dataset5,\n",
    "                                         batch_size=2, \n",
    "                                         shuffle=False,\n",
    "                                         collate_fn=ExampleDataset5.collate_fn)\n",
    "\n",
    "for i, batch in enumerate(dataloader5):\n",
    "    print(\"Batch\", i, \":\\n\", batch, \"\\n\")"
   ]
  },
  {
   "cell_type": "markdown",
   "metadata": {},
   "source": [
    "---\n",
    "#### Expected Output:\n",
    "\n",
    "```\n",
    "Batch 0 :\n",
    " tensor([[[ 0,  0,  0],\n",
    "         [ 2,  3,  4],\n",
    "         [ 4,  6,  8]],\n",
    "\n",
    "        [[ 2,  3,  4],\n",
    "         [ 4,  6,  8],\n",
    "         [ 6,  9, 12]]]) \n",
    "\n",
    "Batch 1 :\n",
    " tensor([[[ 4,  6,  8],\n",
    "         [ 6,  9, 12],\n",
    "         [ 8, 12, 16]],\n",
    "\n",
    "        [[ 6,  9, 12],\n",
    "         [ 8, 12, 16],\n",
    "         [ 0,  0,  0]]]) \n",
    "\n",
    "Batch 2 :\n",
    " tensor([[[ 0,  0,  0],\n",
    "         [10, 15, 20],\n",
    "         [12, 18, 24]],\n",
    "\n",
    "        [[10, 15, 20],\n",
    "         [12, 18, 24],\n",
    "         [ 0,  0,  0]]]) \n",
    "```\n",
    "---"
   ]
  },
  {
   "cell_type": "markdown",
   "metadata": {},
   "source": [
    "<hr style=\"border:2px solid gray\"> </hr>"
   ]
  },
  {
   "cell_type": "markdown",
   "metadata": {},
   "source": [
    "### Exercise 6"
   ]
  },
  {
   "cell_type": "code",
   "execution_count": null,
   "metadata": {},
   "outputs": [],
   "source": [
    "X = np.array([ np.array([[ 2,  3,  4],\n",
    "                         [ 4,  6,  8],\n",
    "                         [ 6,  9, 12],\n",
    "                         [ 8, 12, 16]]),\n",
    "               np.array([[10, 15, 20],\n",
    "                         [12, 18, 24]]) ], dtype=object)\n",
    "\n",
    "Y = np.array([ np.array([1, 2, 3, 4]), \n",
    "               np.array([5, 6])], dtype=object)"
   ]
  },
  {
   "cell_type": "code",
   "execution_count": null,
   "metadata": {},
   "outputs": [],
   "source": [
    "class ExampleDataset6(torch.utils.data.Dataset):\n",
    "    \n",
    "    def __init__(self, X, Y, offset=1, context=1):\n",
    "        \n",
    "        ### Add data and label to self (1-2 lines)\n",
    "\n",
    "\n",
    "        \n",
    "        ### Define data index mapping (4-6 lines)\n",
    "\n",
    "        \n",
    "        \n",
    "        \n",
    "        \n",
    "        \n",
    "                \n",
    "        ### Define label index mapping (4-6 lines)\n",
    "        \n",
    "        \n",
    "        \n",
    "        \n",
    "        \n",
    "        \n",
    "                \n",
    "        ### Assert the data index mapping and label index mapping are the same (1 line)\n",
    "\n",
    "        \n",
    "        ### Assign data index mapping to self (1 line)\n",
    "\n",
    "        \n",
    "        ### Add length to self (1 line)\n",
    "\n",
    "        \n",
    "        ### Add context and offset to self (1-2 line)\n",
    "        \n",
    "        \n",
    "        \n",
    "        ### Zero pad data as-needed for context size = 1 (1-2 lines)\n",
    "        \n",
    "        \n",
    "        \n",
    "    def __len__(self):\n",
    "        \n",
    "        ### Return length (1 line)\n",
    "\n",
    "        \n",
    "    def __getitem__(self, index):\n",
    "        \n",
    "        ### Get index pair from index map (1-2 lines)\n",
    "\n",
    "        \n",
    "        ### Calculate starting timestep using offset and context (1 line)\n",
    "\n",
    "        \n",
    "        ## Calculate ending timestep using offset and context (1 line)\n",
    "\n",
    "        \n",
    "        ### Get data at index pair with context (1 line)\n",
    "\n",
    "        \n",
    "        ### Get label at index pair (1 line)\n",
    "\n",
    "        \n",
    "        ### Return data at index pair with context and label at index pair (1 line)\n",
    "\n",
    "        \n",
    "    def collate_fn(batch):\n",
    "        \n",
    "        ### Select all data from batch (1 line)\n",
    "\n",
    "        \n",
    "        ### Select all labels from batch (1 line)\n",
    "\n",
    "        \n",
    "        ### Convert batched data and labels to tensors (2 lines)\n",
    "\n",
    "\n",
    "        \n",
    "        ### Return batched data and labels (1 line)\n",
    "\n",
    "        "
   ]
  },
  {
   "cell_type": "code",
   "execution_count": null,
   "metadata": {},
   "outputs": [],
   "source": [
    "dataset6 = ExampleDataset6(X, Y)\n",
    "\n",
    "dataloader6 = torch.utils.data.DataLoader(dataset6,\n",
    "                                         batch_size=2, \n",
    "                                         shuffle=False,\n",
    "                                         collate_fn=ExampleDataset6.collate_fn)\n",
    "\n",
    "for i, batch in enumerate(dataloader6):\n",
    "    print(\"Batch\", i, \":\\n\", batch, \"\\n\")"
   ]
  },
  {
   "cell_type": "markdown",
   "metadata": {},
   "source": [
    "---\n",
    "#### Expected Output:\n",
    "```\n",
    "Batch 0 :\n",
    " (tensor([[[ 0,  0,  0],\n",
    "         [ 2,  3,  4],\n",
    "         [ 4,  6,  8]],\n",
    "\n",
    "        [[ 2,  3,  4],\n",
    "         [ 4,  6,  8],\n",
    "         [ 6,  9, 12]]]), tensor([1, 2])) \n",
    "\n",
    "Batch 1 :\n",
    " (tensor([[[ 4,  6,  8],\n",
    "         [ 6,  9, 12],\n",
    "         [ 8, 12, 16]],\n",
    "\n",
    "        [[ 6,  9, 12],\n",
    "         [ 8, 12, 16],\n",
    "         [ 0,  0,  0]]]), tensor([3, 4])) \n",
    "\n",
    "Batch 2 :\n",
    " (tensor([[[ 0,  0,  0],\n",
    "         [10, 15, 20],\n",
    "         [12, 18, 24]],\n",
    "\n",
    "        [[10, 15, 20],\n",
    "         [12, 18, 24],\n",
    "         [ 0,  0,  0]]]), tensor([5, 6])) \n",
    "```\n",
    "---"
   ]
  },
  {
   "cell_type": "markdown",
   "metadata": {},
   "source": [
    "### Exercise 7"
   ]
  },
  {
   "cell_type": "code",
   "execution_count": null,
   "metadata": {},
   "outputs": [],
   "source": [
    "!nvidia-smi"
   ]
  },
  {
   "cell_type": "markdown",
   "metadata": {},
   "source": [
    "---\n",
    "#### Expected Output (your result should look similar, but not exactly the same):\n",
    "```\n",
    "+-----------------------------------------------------------------------------+\n",
    "| NVIDIA-SMI 460.27.04    Driver Version: 460.27.04    CUDA Version: 11.2     |\n",
    "|-------------------------------+----------------------+----------------------+\n",
    "| GPU  Name        Persistence-M| Bus-Id        Disp.A | Volatile Uncorr. ECC |\n",
    "| Fan  Temp  Perf  Pwr:Usage/Cap|         Memory-Usage | GPU-Util  Compute M. |\n",
    "|                               |                      |               MIG M. |\n",
    "|===============================+======================+======================|\n",
    "|   0  GeForce RTX 207...  Off  | 00000000:01:00.0 Off |                  N/A |\n",
    "| N/A   40C    P8     9W /  N/A |      5MiB /  7982MiB |      0%      Default |\n",
    "|                               |                      |                  N/A |\n",
    "+-------------------------------+----------------------+----------------------+\n",
    "                                                                               \n",
    "+-----------------------------------------------------------------------------+\n",
    "| Processes:                                                                  |\n",
    "|  GPU   GI   CI        PID   Type   Process name                  GPU Memory |\n",
    "|        ID   ID                                                   Usage      |\n",
    "|=============================================================================|\n",
    "|    0   N/A  N/A       970      G   /usr/lib/xorg/Xorg                  4MiB |\n",
    "+-----------------------------------------------------------------------------+\n",
    "```\n",
    "---"
   ]
  },
  {
   "cell_type": "code",
   "execution_count": null,
   "metadata": {},
   "outputs": [],
   "source": []
  }
 ],
 "metadata": {
  "kernelspec": {
   "display_name": "PyTorch 3.6",
   "language": "python",
   "name": "pytorch_p36"
  },
  "language_info": {
   "codemirror_mode": {
    "name": "ipython",
    "version": 3
   },
   "file_extension": ".py",
   "mimetype": "text/x-python",
   "name": "python",
   "nbconvert_exporter": "python",
   "pygments_lexer": "ipython3",
   "version": "3.6.10"
  }
 },
 "nbformat": 4,
 "nbformat_minor": 4
}
