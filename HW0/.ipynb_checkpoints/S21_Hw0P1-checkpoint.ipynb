{
 "cells": [
  {
   "cell_type": "markdown",
   "metadata": {
    "id": "ZdDimpLi2_nI"
   },
   "source": [
    "# **Homework 0**"
   ]
  },
  {
   "cell_type": "markdown",
   "metadata": {
    "id": "Vy3MSrtC2_nn"
   },
   "source": [
    "## **Intro to your Python Tooklit**"
   ]
  },
  {
   "cell_type": "markdown",
   "metadata": {
    "id": "FKTUvxfSrbYc"
   },
   "source": [
    "The purpose of this homework is to provide you with the python toolkit you will be using in your homeworks."
   ]
  },
  {
   "cell_type": "markdown",
   "metadata": {
    "id": "74dvqpa52_no"
   },
   "source": [
    "Throughout this course, we will heavily rely on the NumPy and PyTorch libraries.\n",
    "\n",
    "The first library of interest is NumPy.\n",
    "\n",
    "> NumPy is the fundamental package for scientific computing with Python. It contains among other things:\n",
    ">\n",
    "> - a powerful N-dimensional array object\n",
    "> - sophisticated (broadcasting) functions\n",
    "> - tools for integrating C/C++ and Fortran code\n",
    "> - useful linear algebra, Fourier transform, and random number capabilities\n",
    "> \n",
    "> Besides its obvious scientific uses, NumPy can also be used as an efficient multi-dimensional container of generic data. Arbitrary data-types can be defined. This allows NumPy to seamlessly and speedily integrate with a wide variety of databases.\n",
    ">\n",
    "> —*[About NumPy](http://www.numpy.org/)*\n",
    "\n",
    "The second library of interest is PyTorch.\n",
    "> PyTorch is an open source deep learning platform that provides a seamless path from research prototyping to production deployment.\n",
    "> - *Hybrid Front-End:* A new hybrid front-end seamlessly transitions between eager mode and graph mode to provide both flexibility and speed.\n",
    "> - *Distributed Training:* Scalable distributed training and performance optimization in research and production is enabled by the torch.distributed backend.\n",
    "> - *Python-First:* Deep integration into Python allows popular libraries and packages to be used for easily writing neural network layers in Python.\n",
    "> - *Tools & Libraries:* A rich ecosystem of tools and libraries extends PyTorch and supports development in computer vision, NLP and more.\n",
    ">\n",
    "> —*[About PyTorch](https://pytorch.org/)*\n",
    "\n",
    "One consideration as to why we are using PyTorch is most succinctly summerized by Andrej Karpathy, Director of Artificial Intelligence and Autopilot Vision at Tesla. The technical summary can be found [here](https://twitter.com/karpathy/status/868178954032513024?lang=en)."
   ]
  },
  {
   "cell_type": "code",
   "execution_count": null,
   "metadata": {
    "colab": {
     "base_uri": "https://localhost:8080/"
    },
    "id": "Z_C9non42_ns",
    "outputId": "6b2bf782-8182-481e-ed4e-d7c01ffe8fe5"
   },
   "outputs": [
    {
     "name": "stdout",
     "output_type": "stream",
     "text": [
      "1.19.4\n",
      "1.7.0+cu101\n"
     ]
    }
   ],
   "source": [
    "import numpy as np\n",
    "print(np.__version__)\n",
    "import os\n",
    "import time\n",
    "import torch\n",
    "print(torch.__version__)"
   ]
  },
  {
   "cell_type": "markdown",
   "metadata": {
    "id": "aMDvk_n3ClsU"
   },
   "source": [
    "Note: If you run into version mismatch errors with Autograd, please ensure you are using the following versions: numpy 1.19.5 ; torch 1.7.0+cu101\n",
    "\n",
    "If you are using Google Colab, use the following command to install specific version: !pip install numpy==1.19.5 "
   ]
  },
  {
   "cell_type": "markdown",
   "metadata": {
    "id": "my22_BJT2_nu"
   },
   "source": [
    "---"
   ]
  },
  {
   "cell_type": "markdown",
   "metadata": {
    "id": "KL56difhEVb9"
   },
   "source": [
    "### **1. Interconversion**"
   ]
  },
  {
   "cell_type": "markdown",
   "metadata": {
    "id": "wWrt-C9Vsp5C"
   },
   "source": [
    "PyTorch is an open-source deep learning library for python, and will be the primary framework throughout the course. You can install PyTorch referring to https://PyTorch.org/get-started/locally/. One of the fundamental concepts in PyTorch is the Tensor, a multi-dimensional matrix containing elements of a single type. Tensors are similar to numpy nd-arrays and tensors support most of the functionality that numpy matrices do.\n",
    "\n",
    "In following exercises, you will familiarize yourself with tensors and more importantly, the PyTorch documentation. It is important to note that for this section we are simply using PyTorch’s tensors as a matrix library, just like numpy. So please do not use functions in torch.nn, like torch.nn.ReLU.\n",
    "\n",
    "In PyTorch, it is very simple to convert between numpy arrays and tensors. PyTorch’s tensor library provides functions to perform the conversion in either direction."
   ]
  },
  {
   "cell_type": "markdown",
   "metadata": {
    "id": "3p9YQe_uDi61"
   },
   "source": [
    "#### 1.1 Converting from NumPy to PyTorch Tensor\n",
    "In this task, you will implement a conversion function from arrays to tensors.\n",
    "\n",
    "The function should take a numpy ndarray and convert it to a PyTorch tensor.\n",
    "\n",
    "*Function torch.tensor is one of the simple ways to implement it but please do not use it this time. The PyTorch environment installed on Autolab is not an up-to-date version and does not support this function.*\n",
    "\n",
    "**Your Task**: Implement the function `numpy2tensor`."
   ]
  },
  {
   "cell_type": "code",
   "execution_count": null,
   "metadata": {
    "id": "klJEQtx7FGAH"
   },
   "outputs": [],
   "source": [
    "def numpy2tensor(x):\n",
    "    \"\"\"\n",
    "    Creates a torch.Tensor from a numpy.ndarray.\n",
    "\n",
    "    Parameters: \n",
    "    x (numpy.ndarray): 1-dimensional numpy array.\n",
    "\n",
    "    Returns: \n",
    "    torch.Tensor: 1-dimensional torch tensor.\n",
    "    \"\"\"\n",
    "\n",
    "    return NotImplemented"
   ]
  },
  {
   "cell_type": "markdown",
   "metadata": {
    "id": "LPckbKJpFHr4"
   },
   "source": [
    "##### Test Example:"
   ]
  },
  {
   "cell_type": "code",
   "execution_count": null,
   "metadata": {
    "colab": {
     "base_uri": "https://localhost:8080/"
    },
    "id": "pZjTdpA1FKFx",
    "outputId": "3c171606-32fe-40ef-f033-e7269c5b5e1f"
   },
   "outputs": [
    {
     "name": "stdout",
     "output_type": "stream",
     "text": [
      "<class 'NotImplementedType'>\n"
     ]
    }
   ],
   "source": [
    "X = np.random.randint(-1000, 1000, size=3000)\n",
    "\n",
    "print(type(numpy2tensor(X)))"
   ]
  },
  {
   "cell_type": "markdown",
   "metadata": {
    "id": "DXW0LdfbFOFK"
   },
   "source": [
    "**Expected Output**: \n",
    "<table style = \"align:40%\">\n",
    "    <tr>\n",
    "        <td style=\"text-align:left;\"><tt><b> type(numpy2tensor(X)) </b></tt></td> \n",
    "        <td style=\"text-align:left;\"><tt> &lt;class &#39;torch.Tensor&#39;&gt; </tt></td> \n",
    "    </tr>\n",
    "</table>"
   ]
  },
  {
   "cell_type": "markdown",
   "metadata": {
    "id": "iSW6l5ldFdUo"
   },
   "source": [
    "---"
   ]
  },
  {
   "cell_type": "markdown",
   "metadata": {
    "id": "dXm9FUllFSSw"
   },
   "source": [
    "#### 1.2 Converting from PyTorch Tensor to NumPy\n",
    "\n",
    "In this task, you will implement a conversion function from tensors to arrays.\n",
    "\n",
    "The function should take a PyTorch tensor and convert it to a numpy ndarray.\n",
    "\n",
    "**Your Task**: Implement the function `tensor2numpy`. "
   ]
  },
  {
   "cell_type": "code",
   "execution_count": null,
   "metadata": {
    "id": "ls7nSxDfFoK2"
   },
   "outputs": [],
   "source": [
    "def tensor2numpy(x):\n",
    "    \"\"\"\n",
    "    Creates a numpy.ndarray from a torch.Tensor.\n",
    "\n",
    "    Parameters:\n",
    "    x (torch.Tensor): 1-dimensional torch tensor.\n",
    "\n",
    "    Returns:\n",
    "    numpy.ndarray: 1-dimensional numpy array.\n",
    "    \"\"\"\n",
    "\n",
    "    return NotImplemented"
   ]
  },
  {
   "cell_type": "markdown",
   "metadata": {
    "id": "0hzuBTxuFqSY"
   },
   "source": [
    "##### Test Example:"
   ]
  },
  {
   "cell_type": "code",
   "execution_count": null,
   "metadata": {
    "id": "wXi-bI3TFsZs"
   },
   "outputs": [],
   "source": [
    "X = np.random.randint(-1000, 1000, size=3000)\n",
    "X = torch.from_numpy(X)\n",
    "\n",
    "print(type(tensor2numpy(X)))"
   ]
  },
  {
   "cell_type": "markdown",
   "metadata": {
    "id": "scUXKxnyFxVK"
   },
   "source": [
    "**Expected Output**: \n",
    "<table style = \"align:40%\">\n",
    "    <tr>\n",
    "        <td style=\"text-align:left;\"><tt><b> type(tensor2numpy(X)) </b></tt></td> \n",
    "        <td style=\"text-align:left;\"><tt> &lt;class &#39;numpy.ndarray&#39;&gt; </tt></td> \n",
    "    </tr>\n",
    "</table>"
   ]
  },
  {
   "cell_type": "markdown",
   "metadata": {
    "id": "IOF0T1j22_nv"
   },
   "source": [
    "### **2. Vectorization**\n",
    "\n",
    "Lists are a foundational data structure in Python, allowing us to create simple and complex algorithms to solve problems. However, in mathematics and particularly in linear algebra, we work with vectors and matrices to model problems and create statistical solutions. Through these exercises, we will begin introducing you to how to think more mathematically through the use of NumPy by starting with a process known as vectorization.\n",
    "\n",
    "Index chasing is a very valuable skill, and certainly one you will need in this course, but mathematical problems often have simpler and more efficient representations that use vectors. The process of converting from an implimentation that uses indicies to one that uses vectors is known as vectorization. Once vectorized, the resulting implementation often yields to the user faster and more readable code than before.\n",
    "\n",
    "In the following problems, we will ask you to practice reading mathematical expressions and deduce their vectorized equivalent along with their implementation in Python. You will use the NumPy array object as the Python equivalent to a vector, and in later sections you will work with sets of vectors known as matrices."
   ]
  },
  {
   "cell_type": "markdown",
   "metadata": {
    "id": "8LjZ-opnwmJO"
   },
   "source": [
    " **For the following tasks you will be asked to complete the same task first using Numpy Operations, then again using Torch Operations**"
   ]
  },
  {
   "cell_type": "markdown",
   "metadata": {
    "id": "aNcH1oNV2_nw"
   },
   "source": [
    "---"
   ]
  },
  {
   "cell_type": "markdown",
   "metadata": {
    "id": "KL6DGOa52_nx"
   },
   "source": [
    "#### 2.1 Dot Product\n",
    "\n",
    "In this task, you will implement the dot product function for numpy arrays & torch tensors.\n",
    "\n",
    "The dot product (also known as the scalar product or inner product) is the linear combination of the n real components of two vectors.\n",
    "\n",
    "$$x \\cdot y = x_1 y_1 + x_2 y_2 + \\cdots + x_n y_n$$\n",
    "\n",
    "**Your Task**: Implement the functions `NUMPY_dot` & `PYTORCH_dot`."
   ]
  },
  {
   "cell_type": "code",
   "execution_count": null,
   "metadata": {
    "id": "t7_t_pOq2_ny"
   },
   "outputs": [],
   "source": [
    "def EXAMPLE_inefficient_dot(x, y):\n",
    "    \"\"\"\n",
    "    Inefficient dot product of two arrays.\n",
    "\n",
    "    Parameters: \n",
    "    x (numpy.ndarray): 1-dimensional numpy array.\n",
    "    y (numpy.ndarray): 1-dimensional numpy array.\n",
    "\n",
    "    Returns: \n",
    "    numpy.int64: scalar quantity.\n",
    "    \"\"\"    \n",
    "    assert(len(x) == len(y))\n",
    "    \n",
    "    result = 0\n",
    "    for i in range(len(x)):\n",
    "        result += x[i]*y[i]\n",
    "        \n",
    "    return result"
   ]
  },
  {
   "cell_type": "code",
   "execution_count": null,
   "metadata": {
    "id": "8OgI9XvP2_nz"
   },
   "outputs": [],
   "source": [
    "def NUMPY_dot(x, y):\n",
    "    \"\"\"\n",
    "    Dot product of two arrays.\n",
    "\n",
    "    Parameters: \n",
    "    x (numpy.ndarray): 1-dimensional numpy array.\n",
    "    y (numpy.ndarray): 1-dimensional numpy array.\n",
    "\n",
    "    Returns: \n",
    "    numpy.int64: scalar quantity.\n",
    "    \"\"\"\n",
    "\n",
    "    return NotImplemented"
   ]
  },
  {
   "cell_type": "code",
   "execution_count": null,
   "metadata": {
    "id": "k6Vt0Q0pH74V"
   },
   "outputs": [],
   "source": [
    "def PYTORCH_dot(x, y):\n",
    "    \"\"\"\n",
    "    Dot product of two tensors.\n",
    "\n",
    "    Parameters: \n",
    "    x (torch.Tensor): 1-dimensional torch tensor.\n",
    "    y (torch.Tensor): 1-dimensional torch tensor.\n",
    "\n",
    "    Returns: \n",
    "    torch.int64: scalar quantity.\n",
    "    \"\"\"\n",
    "\n",
    "    return NotImplemented"
   ]
  },
  {
   "cell_type": "markdown",
   "metadata": {
    "id": "u80TqwMI2_nz"
   },
   "source": [
    "##### Test Example:"
   ]
  },
  {
   "cell_type": "code",
   "execution_count": null,
   "metadata": {
    "id": "zeZu1Amf2_n0",
    "outputId": "27a73e49-52a4-4df8-cc2b-57a9163108b1"
   },
   "outputs": [
    {
     "name": "stdout",
     "output_type": "stream",
     "text": [
      "NotImplemented\n"
     ]
    }
   ],
   "source": [
    "np.random.seed(0)\n",
    "X = np.random.randint(-1000, 1000, size=3000)\n",
    "Y = np.random.randint(-1000, 1000, size=3000)\n",
    "\n",
    "print(NUMPY_dot(X,Y))\n",
    "\n",
    "X = torch.from_numpy(X)\n",
    "Y = torch.from_numpy(Y)\n",
    "print(PYTORCH_dot(X,Y))"
   ]
  },
  {
   "cell_type": "markdown",
   "metadata": {
    "id": "A74YyJgJ2_n1"
   },
   "source": [
    "**Expected Output**: \n",
    "<table style = \"align:40%\">\n",
    "    <tr>\n",
    "        <td style=\"text-align:left;\"><tt><b> NUMPY_dot(X,Y) </b></tt></td> \n",
    "        <td style=\"text-align:left;\"><tt> 7082791 </tt></td> \n",
    "        <td style=\"text-align:left;\"><tt><b> PYTORCH_dot(X,Y) </b></tt></td> \n",
    "        <td style=\"text-align:left;\"><tt> 7082791 </tt></td>\n",
    "    </tr>\n",
    "</table>"
   ]
  },
  {
   "cell_type": "markdown",
   "metadata": {
    "id": "oaioW_gi2_n2"
   },
   "source": [
    "---"
   ]
  },
  {
   "cell_type": "markdown",
   "metadata": {
    "id": "LIJf-ImY2_n2"
   },
   "source": [
    "#### 2.2 Outer Product\n",
    "\n",
    "In this task, you will implement the outer product function for numpy arrays & torch tensors.\n",
    "\n",
    "The outer product (also known as the tensor product) of vectors x and y is defined as\n",
    "\n",
    "$$\n",
    "x \\otimes y =\n",
    "\\begin{bmatrix}\n",
    "x_1 y_1 & x_1 y_2 & … & x_1 y_n\\\\\n",
    "x_2 y_1 & x_2 y_2 & … & x_2 y_n\\\\\n",
    "⋮ & ⋮ & ⋱ & ⋮ \\\\\n",
    "x_m y_1 & x_m y_2 & … & x_m y_n\n",
    "\\end{bmatrix}\n",
    "$$\n",
    "\n",
    "**Your Task**: Implement the functions `NUMPY_outer` & `PYTORCH_outer`.\n"
   ]
  },
  {
   "cell_type": "code",
   "execution_count": null,
   "metadata": {
    "id": "kKidI4262_n3"
   },
   "outputs": [],
   "source": [
    "def EXAMPLE_inefficient_outer(x, y):\n",
    "    \"\"\"\n",
    "    Inefficiently compute the outer product of two vectors.\n",
    "\n",
    "    Parameters: \n",
    "    x (numpy.ndarray): 1-dimensional numpy array.\n",
    "    y (numpy.ndarray): 1-dimensional numpy array.\n",
    "\n",
    "    Returns: \n",
    "    numpy.ndarray: 2-dimensional numpy array.\n",
    "    \"\"\"\n",
    "    result = np.zeros((len(x), len(y))) \n",
    "    for i in range(len(x)):\n",
    "        for j in range(len(y)):\n",
    "            result[i, j] = x[i]*y[j]\n",
    "    \n",
    "    return result"
   ]
  },
  {
   "cell_type": "code",
   "execution_count": null,
   "metadata": {
    "id": "NBg_pnlb2_n4"
   },
   "outputs": [],
   "source": [
    "def NUMPY_outer(x, y):\n",
    "    \"\"\"\n",
    "    Compute the outer product of two vectors.\n",
    "\n",
    "    Parameters: \n",
    "    x (numpy.ndarray): 1-dimensional numpy array.\n",
    "    y (numpy.ndarray): 1-dimensional numpy array.\n",
    "\n",
    "    Returns: \n",
    "    numpy.ndarray: 2-dimensional numpy array.\n",
    "    \"\"\"\n",
    "\n",
    "    return NotImplemented"
   ]
  },
  {
   "cell_type": "code",
   "execution_count": null,
   "metadata": {
    "id": "q7JXJcKMKGA-"
   },
   "outputs": [],
   "source": [
    "def PYTORCH_outer(x, y):\n",
    "    \"\"\"\n",
    "    Compute the outer product of two vectors.\n",
    "\n",
    "    Parameters: \n",
    "    x (torch.Tensor): 1-dimensional torch tensor.\n",
    "    y (torch.Tensor): 1-dimensional torch tensor.\n",
    "\n",
    "    Returns: \n",
    "    torch.Tensor: 2-dimensional torch tensor.\n",
    "    \"\"\"\n",
    "\n",
    "    return NotImplemented"
   ]
  },
  {
   "cell_type": "markdown",
   "metadata": {
    "id": "QYdW53b_2_n4"
   },
   "source": [
    "##### Test Example:"
   ]
  },
  {
   "cell_type": "code",
   "execution_count": null,
   "metadata": {
    "id": "DFdGvph72_n5",
    "outputId": "91d4f1a0-457c-4179-9ac6-c355869a911b"
   },
   "outputs": [
    {
     "name": "stdout",
     "output_type": "stream",
     "text": [
      "NotImplemented\n"
     ]
    }
   ],
   "source": [
    "np.random.seed(0)\n",
    "X = np.random.randint(-1000, 1000, size=3000)\n",
    "Y = np.random.randint(-1000, 1000, size=3000)\n",
    "\n",
    "print(NUMPY_outer(X,Y))\n",
    "\n",
    "X = torch.from_numpy(X)\n",
    "Y = torch.from_numpy(Y)\n",
    "print(PYTORCH_outer(X,Y))"
   ]
  },
  {
   "cell_type": "markdown",
   "metadata": {
    "id": "AiVgEuI12_n6"
   },
   "source": [
    "**Expected Output**: \n",
    "<table style = \"align:40%\">\n",
    "    <tr>\n",
    "        <td style=\"text-align:left;\"><tt><b> NUMPY_outer(X,Y) </b></tt></td> \n",
    "        <td style=\"text-align:left;\"><tt> \n",
    "            [[&nbsp;&nbsp;59092&nbsp;-144096&nbsp;&nbsp;136512&nbsp;...&nbsp;&nbsp;-53088&nbsp;&nbsp;-86268&nbsp;&nbsp;&nbsp;53404] <br>\n",
    "            &nbsp;[&nbsp;&nbsp;82467&nbsp;-201096&nbsp;&nbsp;190512&nbsp;...&nbsp;&nbsp;-74088&nbsp;-120393&nbsp;&nbsp;&nbsp;74529] <br>\n",
    "            &nbsp;[-122111&nbsp;&nbsp;297768&nbsp;-282096&nbsp;...&nbsp;&nbsp;109704&nbsp;&nbsp;178269&nbsp;-110357] <br>\n",
    "            &nbsp;... <br>\n",
    "            &nbsp;[-144551&nbsp;&nbsp;352488&nbsp;-333936&nbsp;...&nbsp;&nbsp;129864&nbsp;&nbsp;211029&nbsp;-130637] <br>\n",
    "            &nbsp;[-179707&nbsp;&nbsp;438216&nbsp;-415152&nbsp;...&nbsp;&nbsp;161448&nbsp;&nbsp;262353&nbsp;-162409] <br>\n",
    "            &nbsp;[&nbsp;&nbsp;88825&nbsp;-216600&nbsp;&nbsp;205200&nbsp;...&nbsp;&nbsp;-79800&nbsp;-129675&nbsp;&nbsp;&nbsp;80275]] <br>\n",
    "        </tt></td> \n",
    "        <td style=\"text-align:left;\"><tt><b> PYTORCH_outer(X,Y) </b></tt></td> \n",
    "        <td style=\"text-align:left;\"><tt> \n",
    "            [[&nbsp;&nbsp;59092&nbsp;-144096&nbsp;&nbsp;136512&nbsp;...&nbsp;&nbsp;-53088&nbsp;&nbsp;-86268&nbsp;&nbsp;&nbsp;53404] <br>\n",
    "            &nbsp;[&nbsp;&nbsp;82467&nbsp;-201096&nbsp;&nbsp;190512&nbsp;...&nbsp;&nbsp;-74088&nbsp;-120393&nbsp;&nbsp;&nbsp;74529] <br>\n",
    "            &nbsp;[-122111&nbsp;&nbsp;297768&nbsp;-282096&nbsp;...&nbsp;&nbsp;109704&nbsp;&nbsp;178269&nbsp;-110357] <br>\n",
    "            &nbsp;... <br>\n",
    "            &nbsp;[-144551&nbsp;&nbsp;352488&nbsp;-333936&nbsp;...&nbsp;&nbsp;129864&nbsp;&nbsp;211029&nbsp;-130637] <br>\n",
    "            &nbsp;[-179707&nbsp;&nbsp;438216&nbsp;-415152&nbsp;...&nbsp;&nbsp;161448&nbsp;&nbsp;262353&nbsp;-162409] <br>\n",
    "            &nbsp;[&nbsp;&nbsp;88825&nbsp;-216600&nbsp;&nbsp;205200&nbsp;...&nbsp;&nbsp;-79800&nbsp;-129675&nbsp;&nbsp;&nbsp;80275]] <br>\n",
    "        </tt></td> \n",
    "    </tr>\n",
    "</table>"
   ]
  },
  {
   "cell_type": "markdown",
   "metadata": {
    "id": "JEpRdsHh2_n7"
   },
   "source": [
    "---"
   ]
  },
  {
   "cell_type": "markdown",
   "metadata": {
    "id": "GKeK_i3f2_n8"
   },
   "source": [
    "#### 2.3 Hadamard Product\n",
    "\n",
    "In this task, you will implement the Hadamard product function, `multiply`, for numpy arrays & torch tensors.\n",
    "\n",
    "The Hadamard product (also known as the Schur product or entrywise product) of vectors x and y is defined as\n",
    "\n",
    "$$\n",
    "x \\circ y =\n",
    "\\begin{bmatrix}\n",
    "x_{1} y_{1} & x_{2} y_{2} & … & x_{n} y_{n}\n",
    "\\end{bmatrix}\n",
    "$$\n",
    "\n",
    "**Your Task**: Implement the functions `NUMPY_multiply` & `PYTORCH_multiply`."
   ]
  },
  {
   "cell_type": "code",
   "execution_count": null,
   "metadata": {
    "id": "i5b2GYkT2_n-"
   },
   "outputs": [],
   "source": [
    "def EXAMPLE_inefficient_multiply(x, y):\n",
    "    \"\"\"\n",
    "    Inefficiently multiply arguments element-wise.\n",
    "\n",
    "    Parameters: \n",
    "    x (numpy.ndarray): 1-dimensional numpy array.\n",
    "    y (numpy.ndarray): 1-dimensional numpy array.\n",
    "\n",
    "    Returns: \n",
    "    numpy.ndarray: 1-dimensional numpy array.\n",
    "    \"\"\"\n",
    "    assert(len(x) == len(y))\n",
    "    \n",
    "    result = np.zeros(len(x))\n",
    "    for i in range(len(x)):\n",
    "        result[i] = x[i]*y[i]\n",
    "    \n",
    "    return result"
   ]
  },
  {
   "cell_type": "code",
   "execution_count": null,
   "metadata": {
    "id": "ulXFBhZW2_n-"
   },
   "outputs": [],
   "source": [
    "def NUMPY_multiply(x, y):\n",
    "    \"\"\"\n",
    "    Multiply arguments element-wise.\n",
    "\n",
    "    Parameters: \n",
    "    x (numpy.ndarray): 1-dimensional numpy array.\n",
    "    y (numpy.ndarray): 1-dimensional numpy array.\n",
    "\n",
    "    Returns: \n",
    "    numpy.ndarray: 1-dimensional numpy array.\n",
    "    \"\"\"\n",
    "\n",
    "    return NotImplemented"
   ]
  },
  {
   "cell_type": "code",
   "execution_count": null,
   "metadata": {
    "id": "HkauisJ-YTfF"
   },
   "outputs": [],
   "source": [
    "def PYTORCH_multiply(x, y):\n",
    "    \"\"\"\n",
    "    Multiply arguments element-wise.\n",
    "\n",
    "    Parameters: \n",
    "    x (torch.Tensor): 1-dimensional torch tensor.\n",
    "    y (torch.Tensor): 1-dimensional torch tensor.\n",
    "\n",
    "    Returns: \n",
    "    torch.Tensor: 1-dimensional torch tensor.\n",
    "    \"\"\"\n",
    "\n",
    "    return NotImplemented"
   ]
  },
  {
   "cell_type": "markdown",
   "metadata": {
    "id": "MJamtDvL2_n_"
   },
   "source": [
    "##### Test Example:"
   ]
  },
  {
   "cell_type": "code",
   "execution_count": null,
   "metadata": {
    "id": "M1WVGeFB2_n_",
    "outputId": "a0505215-3f66-4160-e724-6a10ba088aba"
   },
   "outputs": [
    {
     "name": "stdout",
     "output_type": "stream",
     "text": [
      "NotImplemented\n"
     ]
    }
   ],
   "source": [
    "np.random.seed(0)\n",
    "X = np.random.randint(-1000, 1000, size=3000)\n",
    "Y = np.random.randint(-1000, 1000, size=3000)\n",
    "\n",
    "print(NUMPY_multiply(X,Y))\n",
    "\n",
    "X = torch.from_numpy(X)\n",
    "Y = torch.from_numpy(Y)\n",
    "print(PYTORCH_multiply(X,Y))"
   ]
  },
  {
   "cell_type": "markdown",
   "metadata": {
    "id": "IUt8RkH22_oA"
   },
   "source": [
    "**Expected Output**: \n",
    "<table style = \"align:40%\">\n",
    "    <tr>\n",
    "        <td style=\"text-align:left;\"><tt><b> NUMPY_multiply(X,Y) </b></tt></td> \n",
    "        <td style=\"text-align:left;\"><tt>\n",
    "            [&nbsp;&nbsp;59092&nbsp;-201096&nbsp;-282096&nbsp;...&nbsp;&nbsp;129864&nbsp;&nbsp;262353&nbsp;&nbsp;&nbsp;80275]\n",
    "        </tt></td> \n",
    "        <td style=\"text-align:left;\"><tt><b> PYTORCH_multiply(X,Y) </b></tt></td> \n",
    "        <td style=\"text-align:left;\"><tt>\n",
    "            [&nbsp;&nbsp;59092&nbsp;-201096&nbsp;-282096&nbsp;...&nbsp;&nbsp;129864&nbsp;&nbsp;262353&nbsp;&nbsp;&nbsp;80275]\n",
    "        </tt></td> \n",
    "    </tr>\n",
    "</table>"
   ]
  },
  {
   "cell_type": "markdown",
   "metadata": {
    "id": "Duw3TV1M2_oB"
   },
   "source": [
    "---"
   ]
  },
  {
   "cell_type": "markdown",
   "metadata": {
    "id": "wUntDGYM2_oB"
   },
   "source": [
    "#### 2.4 Sum-Product\n",
    "In this task, you will implement the sum-product function for numpy arrays & torch tensors.\n",
    "\n",
    "The sum-product of vectors x and y, each with n real component, is defined as \n",
    "\n",
    "$$\n",
    "f(x, y) = \n",
    "{\n",
    "\\begin{bmatrix}\n",
    "1\\\\\n",
    "1\\\\\n",
    "⋮\\\\\n",
    "1\n",
    "\\end{bmatrix}^{\\;T}\n",
    "%\n",
    "\\begin{bmatrix}\n",
    "x_1 y_1 & x_1 y_2 & … & x_1 y_n\\\\\n",
    "x_2 y_1 & x_2 y_2 & … & x_2 y_n\\\\\n",
    "⋮ & ⋮ & ⋱ & ⋮ \\\\\n",
    "x_m y_1 & x_m y_2 & … & x_m y_n\n",
    "\\end{bmatrix}\n",
    "%\n",
    "\\begin{bmatrix}\n",
    "1\\\\\n",
    "1\\\\\n",
    "⋮\\\\\n",
    "1\n",
    "\\end{bmatrix}\n",
    "} = \n",
    "\\displaystyle\\sum_{i=1}^{n} \\displaystyle\\sum_{j=1}^{n} x_i \\cdot y_j\n",
    "$$\n",
    "\n",
    "**Your Task**: Implement the functions `NUMPY_sumproduct` & `PYTORCH_sumproduct`.\n"
   ]
  },
  {
   "cell_type": "code",
   "execution_count": null,
   "metadata": {
    "id": "AU4_ZYWc2_oC"
   },
   "outputs": [],
   "source": [
    "def EXAMPLE_inefficient_sumproduct(x, y):\n",
    "    \"\"\"\n",
    "    Inefficiently sum over all the dimensions of the outer product \n",
    "    of two vectors.\n",
    "\n",
    "    Parameters: \n",
    "    x (numpy.ndarray): 1-dimensional numpy array.\n",
    "    y (numpy.ndarray): 1-dimensional numpy array.\n",
    "\n",
    "    Returns: \n",
    "    numpy.int64: scalar quantity.\n",
    "    \"\"\"\n",
    "    assert(len(x) == len(y))\n",
    "    \n",
    "    result = 0\n",
    "    for i in range(len(x)):\n",
    "        for j in range(len(y)):\n",
    "            result += x[i] * y[j]\n",
    "            \n",
    "    return result"
   ]
  },
  {
   "cell_type": "code",
   "execution_count": null,
   "metadata": {
    "id": "-rxIQWnO2_oD"
   },
   "outputs": [],
   "source": [
    "def NUMPY_sumproduct(x, y):\n",
    "    \"\"\"\n",
    "    Sum over all the dimensions of the outer product of two vectors.\n",
    "\n",
    "    Parameters: \n",
    "    x (numpy.ndarray): 1-dimensional numpy array.\n",
    "    y (numpy.ndarray): 1-dimensional numpy array.\n",
    "\n",
    "    Returns: \n",
    "    numpy.int64: scalar quantity.\n",
    "    \"\"\"\n",
    "\n",
    "    return NotImplemented"
   ]
  },
  {
   "cell_type": "code",
   "execution_count": null,
   "metadata": {
    "id": "PmP3En4dbg0D"
   },
   "outputs": [],
   "source": [
    "def PYTORCH_sumproduct(x, y):\n",
    "    \"\"\"\n",
    "    Sum over all the dimensions of the outer product of two vectors.\n",
    "\n",
    "    Parameters: \n",
    "    x (torch.Tensor): 1-dimensional torch tensor.\n",
    "    y (torch.Tensor): 1-dimensional torch tensor.\n",
    "\n",
    "    Returns: \n",
    "    torch.int64: scalar quantity.\n",
    "    \"\"\"\n",
    "\n",
    "    return NotImplemented"
   ]
  },
  {
   "cell_type": "markdown",
   "metadata": {
    "id": "saWnHRYC2_oE"
   },
   "source": [
    "##### Test Example:"
   ]
  },
  {
   "cell_type": "code",
   "execution_count": null,
   "metadata": {
    "id": "TM6MG6Lc2_oE",
    "outputId": "da9bced2-d761-4708-e8be-71af187f411b"
   },
   "outputs": [
    {
     "name": "stdout",
     "output_type": "stream",
     "text": [
      "NotImplemented\n"
     ]
    }
   ],
   "source": [
    "np.random.seed(0)\n",
    "X = np.random.randint(-1000, 1000, size=3000)\n",
    "Y = np.random.randint(-1000, 1000, size=3000)\n",
    "\n",
    "print(NUMPY_sumproduct(X,Y))\n",
    "\n",
    "X = torch.from_numpy(X)\n",
    "Y = torch.from_numpy(Y)\n",
    "print(PYTORCH_sumproduct(X,Y))"
   ]
  },
  {
   "cell_type": "markdown",
   "metadata": {
    "id": "oVkFcF3U2_oF"
   },
   "source": [
    "**Expected Output**: \n",
    "<table style = \"align:40%\">\n",
    "    <tr>\n",
    "        <td style=\"text-align:left;\"><tt><b> NUMPY_sumproduct(X,Y) </b></tt></td> \n",
    "        <td style=\"text-align:left;\"><tt> 265421520 </tt></td> \n",
    "        <td style=\"text-align:left;\"><tt><b> TORCH_sumproduct(X,Y) </b></tt></td> \n",
    "        <td style=\"text-align:left;\"><tt> 265421520 </tt></td> \n",
    "    </tr>\n",
    "</table>"
   ]
  },
  {
   "cell_type": "markdown",
   "metadata": {
    "id": "XAXE7SY-2_oF"
   },
   "source": [
    "---"
   ]
  },
  {
   "cell_type": "markdown",
   "metadata": {
    "id": "IrPg5BtP2_oG"
   },
   "source": [
    "#### 2.5 ReLU\n",
    "\n",
    "In this task, you will implement the ReLU activation function for numpy arrays and torch tensors.\n",
    "\n",
    "The ReLU activation (also known as the rectifier or rectified linear unit) matrix Z resulting from applying the ReLU function to matrix X is defined such that for $X,Z \\in M_{m \\times n} (\\mathbb{R})$, \n",
    "\n",
    "$$Z = {\\tt ReLU}(X) \\implies \\begin{cases}z_{ij} = x_{ij}&{\\mbox{if }}x_{ij}>0\\\\z_{ij} = 0&{\\mbox{otherwise.}}\\end{cases}$$\n",
    "\n",
    "For reference, it is common to use the notation $X = (x_{ij})$ and $Z = (z_{ij})$.\n",
    "\n",
    "**Your Task:** Implement the functions `NUMPY_ReLU` & `PYTORCH_ReLU`."
   ]
  },
  {
   "cell_type": "code",
   "execution_count": null,
   "metadata": {
    "id": "4f7nUWF_2_oG"
   },
   "outputs": [],
   "source": [
    "def EXAMPLE_inefficient_ReLU(x):\n",
    "    \"\"\"\n",
    "    Inefficiently applies the rectified linear unit function \n",
    "    element-wise.\n",
    "\n",
    "    Parameters: \n",
    "    x (numpy.ndarray): 2-dimensional numpy array.\n",
    "\n",
    "    Returns: \n",
    "    numpy.ndarray: 2-dimensional numpy array.\n",
    "    \"\"\"\n",
    "    result = np.copy(x)\n",
    "    for i in range(x.shape[0]):\n",
    "        for j in range(x.shape[1]):\n",
    "            if x[i][j] < 0:\n",
    "                result[i][j] = 0\n",
    "                \n",
    "    return result"
   ]
  },
  {
   "cell_type": "code",
   "execution_count": null,
   "metadata": {
    "id": "6NcT2GhH2_oH"
   },
   "outputs": [],
   "source": [
    "def NUMPY_ReLU(x):\n",
    "    \"\"\"\n",
    "    Applies the rectified linear unit function element-wise.\n",
    "\n",
    "    Parameters: \n",
    "    x (numpy.ndarray): 2-dimensional numpy array.\n",
    "\n",
    "    Returns: \n",
    "    numpy.ndarray: 2-dimensional numpy array.\n",
    "    \"\"\"\n",
    "\n",
    "    return NotImplemented"
   ]
  },
  {
   "cell_type": "code",
   "execution_count": null,
   "metadata": {
    "id": "dv8zksrxdRMx"
   },
   "outputs": [],
   "source": [
    "def PYTORCH_ReLU(x):\n",
    "    \"\"\"\n",
    "    Applies the rectified linear unit function element-wise.\n",
    "\n",
    "    Parameters: \n",
    "    x (torch.Tensor): 2-dimensional torch tensor.\n",
    "\n",
    "    Returns: \n",
    "    torch.Tensor: 2-dimensional torch tensor.\n",
    "    \"\"\"\n",
    "\n",
    "    return NotImplemented"
   ]
  },
  {
   "cell_type": "markdown",
   "metadata": {
    "id": "Tf6YHkuk2_oH"
   },
   "source": [
    "##### Test Example:"
   ]
  },
  {
   "cell_type": "code",
   "execution_count": null,
   "metadata": {
    "id": "wX7cGu6l2_oH",
    "outputId": "9d798680-7df0-4fd7-e186-7815c2948728"
   },
   "outputs": [
    {
     "name": "stdout",
     "output_type": "stream",
     "text": [
      "NotImplemented\n"
     ]
    }
   ],
   "source": [
    "np.random.seed(0)\n",
    "X = np.random.randint(-1000, 1000, size=(3000,3000))\n",
    "\n",
    "print(NUMPY_ReLU(X))\n",
    "\n",
    "X = torch.from_numpy(X)\n",
    "print(PYTORCH_ReLU(X))"
   ]
  },
  {
   "cell_type": "markdown",
   "metadata": {
    "id": "04cIXq5Q2_oI"
   },
   "source": [
    "**Expected Output**: \n",
    "<table style = \"align:40%\">\n",
    "    <tr>\n",
    "        <td style=\"text-align:left;\"><tt><b> NUMPY_ReLU(X) </b></tt></td> \n",
    "        <td style=\"text-align:left;\"><tt>\n",
    "            [[&nbsp;&nbsp;0&nbsp;&nbsp;&nbsp;0&nbsp;653&nbsp;...&nbsp;773&nbsp;961&nbsp;&nbsp;&nbsp;0] <br>\n",
    "&nbsp;[&nbsp;&nbsp;0&nbsp;456&nbsp;&nbsp;&nbsp;0&nbsp;...&nbsp;168&nbsp;273&nbsp;&nbsp;&nbsp;0] <br>\n",
    "&nbsp;[936&nbsp;475&nbsp;&nbsp;&nbsp;0&nbsp;...&nbsp;408&nbsp;&nbsp;&nbsp;0&nbsp;&nbsp;&nbsp;0] <br>\n",
    "&nbsp;... <br>\n",
    "&nbsp;[&nbsp;&nbsp;0&nbsp;396&nbsp;457&nbsp;...&nbsp;646&nbsp;&nbsp;&nbsp;0&nbsp;&nbsp;&nbsp;0] <br>\n",
    "&nbsp;[645&nbsp;943&nbsp;&nbsp;&nbsp;0&nbsp;...&nbsp;863&nbsp;&nbsp;&nbsp;0&nbsp;790] <br>\n",
    "&nbsp;[641&nbsp;&nbsp;&nbsp;0&nbsp;379&nbsp;...&nbsp;347&nbsp;&nbsp;&nbsp;0&nbsp;&nbsp;&nbsp;0]]\n",
    "        </tt></td> \n",
    "        <td style=\"text-align:left;\"><tt><b> PYTORCH_ReLU(X) </b></tt></td> \n",
    "        <td style=\"text-align:left;\"><tt>\n",
    "            [[&nbsp;&nbsp;0&nbsp;&nbsp;&nbsp;0&nbsp;653&nbsp;...&nbsp;773&nbsp;961&nbsp;&nbsp;&nbsp;0] <br>\n",
    "&nbsp;[&nbsp;&nbsp;0&nbsp;456&nbsp;&nbsp;&nbsp;0&nbsp;...&nbsp;168&nbsp;273&nbsp;&nbsp;&nbsp;0] <br>\n",
    "&nbsp;[936&nbsp;475&nbsp;&nbsp;&nbsp;0&nbsp;...&nbsp;408&nbsp;&nbsp;&nbsp;0&nbsp;&nbsp;&nbsp;0] <br>\n",
    "&nbsp;... <br>\n",
    "&nbsp;[&nbsp;&nbsp;0&nbsp;396&nbsp;457&nbsp;...&nbsp;646&nbsp;&nbsp;&nbsp;0&nbsp;&nbsp;&nbsp;0] <br>\n",
    "&nbsp;[645&nbsp;943&nbsp;&nbsp;&nbsp;0&nbsp;...&nbsp;863&nbsp;&nbsp;&nbsp;0&nbsp;790] <br>\n",
    "&nbsp;[641&nbsp;&nbsp;&nbsp;0&nbsp;379&nbsp;...&nbsp;347&nbsp;&nbsp;&nbsp;0&nbsp;&nbsp;&nbsp;0]]\n",
    "        </tt></td> \n",
    "    </tr>\n",
    "</table>"
   ]
  },
  {
   "cell_type": "markdown",
   "metadata": {
    "id": "pqB6yWaV2_oJ"
   },
   "source": [
    "---"
   ]
  },
  {
   "cell_type": "markdown",
   "metadata": {
    "id": "0hpfecaX2_oJ"
   },
   "source": [
    "#### 2.6 Prime ReLU (derivative of ReLU)\n",
    "\n",
    "In this task, you will implement the derivative of the ReLU activation function for numpy arrays and torch tensors.\n",
    "\n",
    "The derivative of the ReLU activation matrix Z resulting from applying the derivative of the ReLU function to matrix X is defined such that for $X,Z \\in M_{m \\times n} (\\mathbb{R})$, \n",
    "\n",
    "$$Z = {\\tt PrimeReLU}(X) \\implies \\begin{cases}z_{ij} = \\frac{d}{dx_{ij}} (x_{ij})&{\\mbox{if }}x_{ij}> 0\\\\z_{ij} = \\frac{d}{dx_{ij}} (0)&{\\mbox{otherwise.}}\\end{cases}$$\n",
    "\n",
    "For reference, it is common to use the notation $X = (x_{ij})$ and $Z = (z_{ij})$.\n",
    "\n",
    "**Your Task:** Implement the functions `NUMPY_PrimeReLU` & `PYTORCH_PrimeReLU`."
   ]
  },
  {
   "cell_type": "code",
   "execution_count": null,
   "metadata": {
    "id": "-OtY3Bwi2_oJ"
   },
   "outputs": [],
   "source": [
    "def EXAMPLE_inefficient_PrimeReLU(x):\n",
    "    \"\"\"\n",
    "    Inefficiently applies the derivative of the rectified linear unit \n",
    "    function element-wise.\n",
    "\n",
    "    Parameters: \n",
    "    x (numpy.ndarray): 2-dimensional numpy array.\n",
    "\n",
    "    Returns: \n",
    "    numpy.ndarray: 2-dimensional numpy array.\n",
    "    \"\"\"\n",
    "\n",
    "    result = np.copy(x)\n",
    "    for i in range(x.shape[0]):\n",
    "        for j in range(x.shape[1]):\n",
    "            if x[i][j] < 0:\n",
    "                result[i][j] = 0\n",
    "            else:\n",
    "                result[i][j] = 1\n",
    "                \n",
    "    return result"
   ]
  },
  {
   "cell_type": "code",
   "execution_count": null,
   "metadata": {
    "id": "sB4gnatn2_oK"
   },
   "outputs": [],
   "source": [
    "def NUMPY_PrimeReLU(x):\n",
    "    \"\"\"\n",
    "    Applies the derivative of the rectified linear unit function \n",
    "    element-wise.\n",
    "\n",
    "    Parameters: \n",
    "    x (numpy.ndarray): 2-dimensional numpy array.\n",
    "\n",
    "    Returns: \n",
    "    numpy.ndarray: 2-dimensional numpy array.\n",
    "    \"\"\"\n",
    "\n",
    "    return NotImplemented"
   ]
  },
  {
   "cell_type": "code",
   "execution_count": null,
   "metadata": {
    "id": "BJPbP09vpwHv"
   },
   "outputs": [],
   "source": [
    "def PYTORCH_PrimeReLU(x):\n",
    "    \"\"\"\n",
    "    Applies derivative of the rectified linear unit function \n",
    "    element-wise.\n",
    "\n",
    "    Parameters: \n",
    "    x (torch.Tensor): 2-dimensional torch tensor.\n",
    "\n",
    "    Returns: \n",
    "    torch.Tensor: 2-dimensional torch tensor.\n",
    "    \"\"\"\n",
    "\n",
    "    return NotImplemented"
   ]
  },
  {
   "cell_type": "markdown",
   "metadata": {
    "id": "SS9ihFG92_oK"
   },
   "source": [
    "##### Test Example:"
   ]
  },
  {
   "cell_type": "code",
   "execution_count": null,
   "metadata": {
    "id": "9pA_oCOL2_oL",
    "outputId": "6eedd68a-8504-40f7-c6b1-ec6b96f2166e"
   },
   "outputs": [
    {
     "name": "stdout",
     "output_type": "stream",
     "text": [
      "NotImplemented\n"
     ]
    }
   ],
   "source": [
    "np.random.seed(0)\n",
    "X = np.random.randint(-1000, 1000, size=(3000,3000))\n",
    "\n",
    "print(NUMPY_PrimeReLU(X))\n",
    "\n",
    "X = torch.from_numpy(X)\n",
    "print(PYTORCH_PrimeReLU(X))"
   ]
  },
  {
   "cell_type": "markdown",
   "metadata": {
    "id": "W4Z_qYgM2_oL"
   },
   "source": [
    "**Expected Output**: \n",
    "<table style = \"align:40%\">\n",
    "    <tr>\n",
    "        <td style=\"text-align:left;\"><tt><b> NUMPY_PrimeReLU(X) </b></tt></td> \n",
    "        <td style=\"text-align:left;\"><tt>\n",
    "            [[0&nbsp;0&nbsp;1&nbsp;...&nbsp;1&nbsp;1&nbsp;0] <br>\n",
    "&nbsp;[0&nbsp;1&nbsp;0&nbsp;...&nbsp;1&nbsp;1&nbsp;0] <br>\n",
    "&nbsp;[1&nbsp;1&nbsp;0&nbsp;...&nbsp;1&nbsp;0&nbsp;0] <br>\n",
    "&nbsp;... <br>\n",
    "&nbsp;[0&nbsp;1&nbsp;1&nbsp;...&nbsp;1&nbsp;0&nbsp;0] <br>\n",
    "&nbsp;[1&nbsp;1&nbsp;0&nbsp;...&nbsp;1&nbsp;0&nbsp;1] <br>\n",
    "&nbsp;[1&nbsp;0&nbsp;1&nbsp;...&nbsp;1&nbsp;0&nbsp;0]]\n",
    "        </tt></td>\n",
    "        <td style=\"text-align:left;\"><tt><b> PYTORCH_PrimeReLU(X) </b></tt></td> \n",
    "        <td style=\"text-align:left;\"><tt>\n",
    "            [[0&nbsp;0&nbsp;1&nbsp;...&nbsp;1&nbsp;1&nbsp;0] <br>\n",
    "&nbsp;[0&nbsp;1&nbsp;0&nbsp;...&nbsp;1&nbsp;1&nbsp;0] <br>\n",
    "&nbsp;[1&nbsp;1&nbsp;0&nbsp;...&nbsp;1&nbsp;0&nbsp;0] <br>\n",
    "&nbsp;... <br>\n",
    "&nbsp;[0&nbsp;1&nbsp;1&nbsp;...&nbsp;1&nbsp;0&nbsp;0] <br>\n",
    "&nbsp;[1&nbsp;1&nbsp;0&nbsp;...&nbsp;1&nbsp;0&nbsp;1] <br>\n",
    "&nbsp;[1&nbsp;0&nbsp;1&nbsp;...&nbsp;1&nbsp;0&nbsp;0]]\n",
    "        </tt></td> \n",
    "    </tr>\n",
    "</table>"
   ]
  },
  {
   "cell_type": "markdown",
   "metadata": {
    "id": "UF2Aqxhi2_oL"
   },
   "source": [
    "---"
   ]
  },
  {
   "cell_type": "markdown",
   "metadata": {
    "id": "PKQQdKI_2_oM"
   },
   "source": [
    "[link text](https://)## 3. Pre-processing\n",
    "When working with mathematical objects, there are often strict requirements on their contents such as dimension or set membership. This allows us to make proofs and conclusions about given objects, which motivate our mathematical models. However, data often not collected in a way that is consistent with our desired requirements.\n",
    "\n",
    "In this problem, you will be introduced to two types of data that will frequently be used in this course: univariate time-series data and multivariate time-series data. Your goal will be to process the given data such that its result is consistent with some requirements. Though the motivation behind these requirements may not yet be clear, they will, needless to say, become useful later in the course.\n",
    "\n",
    "For your implimentation, we encourage you to make use of NumPy to [slice](https://docs.scipy.org/doc/numpy/reference/arrays.indexing.html) and to [pad](https://docs.scipy.org/doc/numpy/reference/generated/numpy.pad.html) data."
   ]
  },
  {
   "cell_type": "code",
   "execution_count": null,
   "metadata": {
    "id": "mRipx9_72_oM"
   },
   "outputs": [],
   "source": [
    "def get_data_1():\n",
    "    \"\"\"\n",
    "    This is the generating process from which example data 1 will derive\n",
    "    \n",
    "    Parameters: \n",
    "    None\n",
    "    \n",
    "    Returns: \n",
    "    numpy.ndarray: 1-d numpy array with 2-d numpy arrays as elements.\n",
    "    \"\"\"\n",
    "    freq000 = 3; freq001 = 1; freq002 = 4; freq003 = 1\n",
    "    freq010 = 5; freq011 = 9; freq012 = 2; freq013 = 6\n",
    "    freq020 = 5; freq021 = 3; freq022 = 5; freq023 = 8\n",
    "    frame00 = np.array([freq000, freq001, freq002, freq003])\n",
    "    frame01 = np.array([freq010, freq011, freq012, freq013])\n",
    "    frame02 = np.array([freq020, freq021, freq022, freq023])\n",
    "    utterance0 = np.array([frame00, frame01, frame02])\n",
    "\n",
    "    freq100 = 9; freq101 = 7; freq102 = 9; freq103 = 3\n",
    "    freq110 = 2; freq111 = 3; freq112 = 8; freq113 = 4\n",
    "    frame10 = np.array([freq100, freq101, freq102, freq103])\n",
    "    frame11 = np.array([freq110, freq111, freq112, freq113])\n",
    "    utterance1 = np.array([frame10, frame11])\n",
    "\n",
    "    freq200 = 6; freq201 = 2; freq202 = 6; freq203 = 4\n",
    "    freq210 = 3; freq211 = 3; freq212 = 8; freq213 = 3\n",
    "    freq220 = 2; freq221 = 7; freq222 = 9; freq223 = 5\n",
    "    freq230 = 0; freq231 = 2; freq232 = 8; freq233 = 8\n",
    "    frame20 = np.array([freq200, freq201, freq202, freq203])\n",
    "    frame21 = np.array([freq210, freq211, freq212, freq213])\n",
    "    frame22 = np.array([freq220, freq221, freq222, freq223])\n",
    "    frame23 = np.array([freq230, freq231, freq232, freq233])\n",
    "    utterance2 = np.array([frame20, frame21, frame22, frame23])\n",
    "\n",
    "    spectrograms = np.array([utterance0, utterance1, utterance2])\n",
    "\n",
    "    return spectrograms\n",
    "\n",
    "def get_data_2():\n",
    "    \"\"\"\n",
    "    This is the generating process from which example data 2 will derive\n",
    "    \n",
    "    Parameters: \n",
    "    None\n",
    "    \n",
    "    Returns: \n",
    "    numpy.ndarray: 1-d numpy array with 2-d numpy arrays as elements.\n",
    "    \"\"\"\n",
    "    np.random.seed(0)\n",
    "    recordings = np.random.randint(10)\n",
    "    durations = [np.random.randint(low=5, high=10) \n",
    "                 for i in range(recordings)]\n",
    "    data = []\n",
    "    k = 40 # Given as fixed constant\n",
    "    for duration in durations:\n",
    "        data.append(np.random.randint(10, size=(duration, k)))\n",
    "    data = np.asarray(data)\n",
    "    return data"
   ]
  },
  {
   "cell_type": "markdown",
   "metadata": {
    "id": "0wOMneSn2_oN"
   },
   "source": [
    "##### Example 1 Data:\n",
    "\n",
    "<img src=\"images/ex3.png\" width=\"600\">"
   ]
  },
  {
   "cell_type": "markdown",
   "metadata": {
    "id": "_YRDOPeL2_oN"
   },
   "source": [
    "<table style = \"align:40%\">\n",
    "    <tr>\n",
    "        <td style=\"text-align:left;\"><tt><b> get_data_1() </b></tt></td> \n",
    "        <td style=\"text-align:left;\"><tt>\n",
    "[array([[3,&nbsp;1,&nbsp;4,&nbsp;1], <br>\n",
    "&nbsp;&nbsp;&nbsp;&nbsp;&nbsp;&nbsp;&nbsp;[5,&nbsp;9,&nbsp;2,&nbsp;6], <br>\n",
    "&nbsp;&nbsp;&nbsp;&nbsp;&nbsp;&nbsp;&nbsp;[5,&nbsp;3,&nbsp;5,&nbsp;8]]) <br>\n",
    "&nbsp;array([[9,&nbsp;7,&nbsp;9,&nbsp;3], <br>\n",
    "&nbsp;&nbsp;&nbsp;&nbsp;&nbsp;&nbsp;&nbsp;[2,&nbsp;3,&nbsp;8,&nbsp;4]]) <br>\n",
    "&nbsp;array([[6,&nbsp;2,&nbsp;6,&nbsp;4], <br>\n",
    "&nbsp;&nbsp;&nbsp;&nbsp;&nbsp;&nbsp;&nbsp;[3,&nbsp;3,&nbsp;8,&nbsp;3], <br>\n",
    "&nbsp;&nbsp;&nbsp;&nbsp;&nbsp;&nbsp;&nbsp;[2,&nbsp;7,&nbsp;9,&nbsp;5], <br>\n",
    "&nbsp;&nbsp;&nbsp;&nbsp;&nbsp;&nbsp;&nbsp;[0,&nbsp;2,&nbsp;8,&nbsp;8]])]\n",
    "        </tt></td> \n",
    "    </tr>\n",
    "</table>"
   ]
  },
  {
   "cell_type": "markdown",
   "metadata": {
    "id": "pkyGsBgm2_oO"
   },
   "source": [
    "---"
   ]
  },
  {
   "cell_type": "markdown",
   "metadata": {
    "id": "lx9gWujwKjyo"
   },
   "source": [
    "### **3. Pre-processing**\n",
    "When working with mathematical objects, there are often strict requirements on their contents such as dimension or set membership. This allows us to make proofs and conclusions about given objects, which motivate our mathematical models. However, data often not collected in a way that is consistent with our desired requirements.\n",
    "\n",
    "In this problem, you will be introduced to two types of data that will frequently be used in this course: univariate time-series data and multivariate time-series data. Your goal will be to process the given data such that its result is consistent with some requirements. Though the motivation behind these requirements may not yet be clear, they will, needless to say, become useful later in the course.\n",
    "\n",
    " For your implementation, we encourage you to make use of NumPy to [slice](https://docs.scipy.org/doc/numpy/reference/arrays.indexing.html) and to [pad](https://docs.scipy.org/doc/numpy/reference/generated/numpy.pad.html) data."
   ]
  },
  {
   "cell_type": "code",
   "execution_count": null,
   "metadata": {
    "id": "514DFxwEKoVD"
   },
   "outputs": [],
   "source": [
    "def get_data_1():\n",
    "    \"\"\"\n",
    "    This is the generating process from which example data 1 will derive\n",
    "    \n",
    "    Parameters: \n",
    "    None\n",
    "    \n",
    "    Returns: \n",
    "    numpy.ndarray: 1-d numpy array with 2-d numpy arrays as elements.\n",
    "    \"\"\"\n",
    "    freq000 = 3; freq001 = 1; freq002 = 4; freq003 = 1\n",
    "    freq010 = 5; freq011 = 9; freq012 = 2; freq013 = 6\n",
    "    freq020 = 5; freq021 = 3; freq022 = 5; freq023 = 8\n",
    "    frame00 = np.array([freq000, freq001, freq002, freq003])\n",
    "    frame01 = np.array([freq010, freq011, freq012, freq013])\n",
    "    frame02 = np.array([freq020, freq021, freq022, freq023])\n",
    "    utterance0 = np.array([frame00, frame01, frame02])\n",
    "\n",
    "    freq100 = 9; freq101 = 7; freq102 = 9; freq103 = 3\n",
    "    freq110 = 2; freq111 = 3; freq112 = 8; freq113 = 4\n",
    "    frame10 = np.array([freq100, freq101, freq102, freq103])\n",
    "    frame11 = np.array([freq110, freq111, freq112, freq113])\n",
    "    utterance1 = np.array([frame10, frame11])\n",
    "\n",
    "    freq200 = 6; freq201 = 2; freq202 = 6; freq203 = 4\n",
    "    freq210 = 3; freq211 = 3; freq212 = 8; freq213 = 3\n",
    "    freq220 = 2; freq221 = 7; freq222 = 9; freq223 = 5\n",
    "    freq230 = 0; freq231 = 2; freq232 = 8; freq233 = 8\n",
    "    frame20 = np.array([freq200, freq201, freq202, freq203])\n",
    "    frame21 = np.array([freq210, freq211, freq212, freq213])\n",
    "    frame22 = np.array([freq220, freq221, freq222, freq223])\n",
    "    frame23 = np.array([freq230, freq231, freq232, freq233])\n",
    "    utterance2 = np.array([frame20, frame21, frame22, frame23])\n",
    "\n",
    "    spectrograms = np.array([utterance0, utterance1, utterance2])\n",
    "\n",
    "    return spectrograms\n",
    "\n",
    "def get_data_2():\n",
    "    \"\"\"\n",
    "    This is the generating process from which example data 2 will derive\n",
    "    \n",
    "    Parameters: \n",
    "    None\n",
    "    \n",
    "    Returns: \n",
    "    numpy.ndarray: 1-d numpy array with 2-d numpy arrays as elements.\n",
    "    \"\"\"\n",
    "    np.random.seed(0)\n",
    "    recordings = np.random.randint(10)\n",
    "    durations = [np.random.randint(low=5, high=10) \n",
    "                 for i in range(recordings)]\n",
    "    data = []\n",
    "    k = 40 # Given as fixed constant\n",
    "    for duration in durations:\n",
    "        data.append(np.random.randint(10, size=(duration, k)))\n",
    "    data = np.asarray(data)\n",
    "    return data"
   ]
  },
  {
   "cell_type": "markdown",
   "metadata": {
    "id": "b0gCJt7cKsti"
   },
   "source": [
    "#### Example 1 Data:\n",
    "\n",
    "<img src=\"images/ex3.png\" width=\"600\">"
   ]
  },
  {
   "cell_type": "markdown",
   "metadata": {
    "id": "B4XXn4zHKyTV"
   },
   "source": [
    "---"
   ]
  },
  {
   "cell_type": "markdown",
   "metadata": {
    "id": "5GUs3hbW2_oO"
   },
   "source": [
    "#### 3.1 Slicing: Last Point\n",
    "Takes one 3-dimensional array with the length of the output instances. Your task is to keep only the $m$ last frames for each instance in the dataset. \n",
    "\n",
    "To the extent that it is helpful, a formal description provided in the Appendix.\n",
    "\n",
    "**Your Task:** Implement the function `slice_last_point`."
   ]
  },
  {
   "cell_type": "code",
   "execution_count": null,
   "metadata": {
    "id": "R56vpvuE2_oO"
   },
   "outputs": [],
   "source": [
    "def slice_last_point(x, m):\n",
    "    \"\"\"\n",
    "    Takes one 3-dimensional array with the length of the output instances.\n",
    "    Your task is to keep only the last m points for each instances in \n",
    "    the dataset.\n",
    "\n",
    "    Parameters: \n",
    "    x (numpy.ndarray): 1-d numpy array with 2-d numpy arrays as elements (n, ?, k). \n",
    "    m (int): The cutoff reference index in dimension 2.\n",
    "  \n",
    "    Returns: \n",
    "    numpy.ndarray: A 3-dimensional numpy array of shape (n, m, k)\n",
    "    \"\"\"\n",
    "    spectrograms = x\n",
    "    \n",
    "    # Input function dimension specification\n",
    "    assert(spectrograms.ndim == 1)\n",
    "    for utter in spectrograms:\n",
    "        assert(utter.ndim == 2)\n",
    "\n",
    "    # Pre-define output function dimension specification\n",
    "    dim1 = spectrograms.shape[0]    # n\n",
    "    dim2 = m                       # m\n",
    "    dim3 = spectrograms[0].shape[1] # k\n",
    "\n",
    "    result = np.zeros((dim1,dim2,dim3))\n",
    "\n",
    "    #### Start of your code ####\n",
    "\n",
    "    \n",
    "    ####  End of your code  ####\n",
    "\n",
    "    # Assert output function dimension specification\n",
    "    assert(result.shape[0] == dim1)\n",
    "    assert(result.shape[1] == dim2)\n",
    "    assert(result.shape[2] == dim3)\n",
    "    \n",
    "    return result"
   ]
  },
  {
   "cell_type": "markdown",
   "metadata": {
    "id": "siBLl_G82_oO"
   },
   "source": [
    "##### Example 1:"
   ]
  },
  {
   "cell_type": "code",
   "execution_count": null,
   "metadata": {
    "id": "YC04c9uG2_oP",
    "outputId": "75238382-cb72-45ea-cada-67a242bc3d31"
   },
   "outputs": [
    {
     "name": "stdout",
     "output_type": "stream",
     "text": [
      "[[[0. 0. 0. 0.]\n",
      "  [0. 0. 0. 0.]]\n",
      "\n",
      " [[0. 0. 0. 0.]\n",
      "  [0. 0. 0. 0.]]\n",
      "\n",
      " [[0. 0. 0. 0.]\n",
      "  [0. 0. 0. 0.]]]\n"
     ]
    }
   ],
   "source": [
    "spectrograms = get_data_1()\n",
    "duration = 2\n",
    "print(slice_last_point(spectrograms, duration))"
   ]
  },
  {
   "cell_type": "markdown",
   "metadata": {
    "id": "wqk9Bufc2_oP"
   },
   "source": [
    "##### Expected Output 1\n",
    "\n",
    "<img src=\"images/ex3-1.png\" width=\"600\">"
   ]
  },
  {
   "cell_type": "markdown",
   "metadata": {
    "id": "WWuYvAiT2_oQ"
   },
   "source": [
    "<table style = \"align:40%\">\n",
    "    <tr>\n",
    "        <td style=\"text-align:left;\"><tt><b> slice_last_point(<br>spectrograms, duration) </b></tt></td> \n",
    "        <td style=\"text-align:left;\"><tt>\n",
    "            [[[5.&nbsp;9.&nbsp;2.&nbsp;6.] <br>\n",
    "&nbsp;&nbsp;[5.&nbsp;3.&nbsp;5.&nbsp;8.]] <br>\n",
    "\n",
    "&nbsp;[[9.&nbsp;7.&nbsp;9.&nbsp;3.] <br>\n",
    "&nbsp;&nbsp;[2.&nbsp;3.&nbsp;8.&nbsp;4.]] <br>\n",
    "\n",
    "&nbsp;[[2.&nbsp;7.&nbsp;9.&nbsp;5.] <br>\n",
    "&nbsp;&nbsp;[0.&nbsp;2.&nbsp;8.&nbsp;8.]]] <br>\n",
    "        </tt></td> \n",
    "    </tr>\n",
    "</table>"
   ]
  },
  {
   "cell_type": "markdown",
   "metadata": {
    "id": "Nwu7OfTG2_oQ"
   },
   "source": [
    "##### Example 2:"
   ]
  },
  {
   "cell_type": "code",
   "execution_count": null,
   "metadata": {
    "id": "DKTsia7b2_oR",
    "outputId": "caab4fba-26e6-40e7-ae9e-e3ea99b81b50"
   },
   "outputs": [
    {
     "name": "stdout",
     "output_type": "stream",
     "text": [
      "[[0. 0. 0. 0. 0. 0. 0. 0. 0. 0. 0. 0. 0. 0. 0. 0. 0. 0. 0. 0. 0. 0. 0. 0.\n",
      "  0. 0. 0. 0. 0. 0. 0. 0. 0. 0. 0. 0. 0. 0. 0. 0.]\n",
      " [0. 0. 0. 0. 0. 0. 0. 0. 0. 0. 0. 0. 0. 0. 0. 0. 0. 0. 0. 0. 0. 0. 0. 0.\n",
      "  0. 0. 0. 0. 0. 0. 0. 0. 0. 0. 0. 0. 0. 0. 0. 0.]\n",
      " [0. 0. 0. 0. 0. 0. 0. 0. 0. 0. 0. 0. 0. 0. 0. 0. 0. 0. 0. 0. 0. 0. 0. 0.\n",
      "  0. 0. 0. 0. 0. 0. 0. 0. 0. 0. 0. 0. 0. 0. 0. 0.]\n",
      " [0. 0. 0. 0. 0. 0. 0. 0. 0. 0. 0. 0. 0. 0. 0. 0. 0. 0. 0. 0. 0. 0. 0. 0.\n",
      "  0. 0. 0. 0. 0. 0. 0. 0. 0. 0. 0. 0. 0. 0. 0. 0.]\n",
      " [0. 0. 0. 0. 0. 0. 0. 0. 0. 0. 0. 0. 0. 0. 0. 0. 0. 0. 0. 0. 0. 0. 0. 0.\n",
      "  0. 0. 0. 0. 0. 0. 0. 0. 0. 0. 0. 0. 0. 0. 0. 0.]]\n"
     ]
    }
   ],
   "source": [
    "data = get_data_2()\n",
    "m = 5\n",
    "print(slice_last_point(data, m)[1])"
   ]
  },
  {
   "cell_type": "markdown",
   "metadata": {
    "id": "GTdZEdsH2_oS"
   },
   "source": [
    "**Expected Output 2**: \n",
    "<table style = \"align:40%\"  >\n",
    "    <tr>\n",
    "        <td style=\"text-align:left;\"><tt><b> slice_last_point(<br>data, m)[1] </b></tt></td> \n",
    "        <td style=\"text-align:left;\"><tt>\n",
    "[[7.&nbsp;2.&nbsp;7.&nbsp;1.&nbsp;6.&nbsp;5.&nbsp;0.&nbsp;0.&nbsp;3.&nbsp;1.&nbsp;9.&nbsp;9.&nbsp;6.&nbsp;6.&nbsp;7.&nbsp;8.&nbsp;8.&nbsp;7.&nbsp;0.&nbsp;8.&nbsp;6.&nbsp;8.&nbsp;9.&nbsp;8. <br>\n",
    "&nbsp;&nbsp;3.&nbsp;6.&nbsp;1.&nbsp;7.&nbsp;4.&nbsp;9.&nbsp;2.&nbsp;0.&nbsp;8.&nbsp;2.&nbsp;7.&nbsp;8.&nbsp;4.&nbsp;4.&nbsp;1.&nbsp;7.] <br>\n",
    "&nbsp;[6.&nbsp;9.&nbsp;4.&nbsp;1.&nbsp;5.&nbsp;9.&nbsp;7.&nbsp;1.&nbsp;3.&nbsp;5.&nbsp;7.&nbsp;3.&nbsp;6.&nbsp;6.&nbsp;7.&nbsp;9.&nbsp;1.&nbsp;9.&nbsp;6.&nbsp;0.&nbsp;3.&nbsp;8.&nbsp;4.&nbsp;1. <br>\n",
    "&nbsp;&nbsp;4.&nbsp;5.&nbsp;0.&nbsp;3.&nbsp;1.&nbsp;4.&nbsp;4.&nbsp;4.&nbsp;0.&nbsp;0.&nbsp;8.&nbsp;4.&nbsp;6.&nbsp;9.&nbsp;3.&nbsp;3.] <br>\n",
    "&nbsp;[2.&nbsp;1.&nbsp;2.&nbsp;1.&nbsp;3.&nbsp;4.&nbsp;1.&nbsp;1.&nbsp;0.&nbsp;7.&nbsp;8.&nbsp;4.&nbsp;3.&nbsp;5.&nbsp;6.&nbsp;3.&nbsp;2.&nbsp;9.&nbsp;8.&nbsp;1.&nbsp;4.&nbsp;0.&nbsp;8.&nbsp;3. <br>\n",
    "&nbsp;&nbsp;9.&nbsp;5.&nbsp;5.&nbsp;1.&nbsp;7.&nbsp;8.&nbsp;6.&nbsp;4.&nbsp;7.&nbsp;3.&nbsp;5.&nbsp;3.&nbsp;6.&nbsp;4.&nbsp;7.&nbsp;3.] <br>\n",
    "&nbsp;[0.&nbsp;5.&nbsp;9.&nbsp;3.&nbsp;7.&nbsp;5.&nbsp;5.&nbsp;8.&nbsp;0.&nbsp;8.&nbsp;3.&nbsp;6.&nbsp;9.&nbsp;3.&nbsp;2.&nbsp;7.&nbsp;0.&nbsp;3.&nbsp;0.&nbsp;3.&nbsp;6.&nbsp;1.&nbsp;9.&nbsp;2. <br>\n",
    "&nbsp;&nbsp;9.&nbsp;4.&nbsp;9.&nbsp;1.&nbsp;3.&nbsp;2.&nbsp;4.&nbsp;9.&nbsp;7.&nbsp;4.&nbsp;9.&nbsp;4.&nbsp;1.&nbsp;2.&nbsp;7.&nbsp;2.] <br>\n",
    "&nbsp;[3.&nbsp;9.&nbsp;7.&nbsp;6.&nbsp;6.&nbsp;2.&nbsp;3.&nbsp;6.&nbsp;0.&nbsp;8.&nbsp;0.&nbsp;7.&nbsp;6.&nbsp;5.&nbsp;9.&nbsp;6.&nbsp;5.&nbsp;2.&nbsp;7.&nbsp;1.&nbsp;9.&nbsp;2.&nbsp;2.&nbsp;5. <br>\n",
    "&nbsp;&nbsp;6.&nbsp;4.&nbsp;2.&nbsp;2.&nbsp;1.&nbsp;0.&nbsp;9.&nbsp;0.&nbsp;2.&nbsp;8.&nbsp;3.&nbsp;0.&nbsp;8.&nbsp;8.&nbsp;1.&nbsp;0.]]\n",
    "        </tt></td> \n",
    "    </tr>\n",
    "</table>"
   ]
  },
  {
   "cell_type": "markdown",
   "metadata": {
    "id": "UjWDNaxn2_oS"
   },
   "source": [
    "---"
   ]
  },
  {
   "cell_type": "markdown",
   "metadata": {
    "id": "EpKq69jC2_oS"
   },
   "source": [
    "#### 3.2 Slicing: Fixed Point\n",
    "Takes one 3-dimensional array with the starting position and the length of the output instances. Your task is to slice the instances from the same starting position for the given length.\n",
    "\n",
    "To the extent that it is helpful, a formal description provided in the Appendix.\n",
    "\n",
    "**Your Task:** Implement the function `slice_fixed_point`."
   ]
  },
  {
   "cell_type": "code",
   "execution_count": null,
   "metadata": {
    "id": "i4hyj3Fd2_oS"
   },
   "outputs": [],
   "source": [
    "def slice_fixed_point(x, s, m):\n",
    "    \"\"\"\n",
    "    Takes one 3-dimensional array with the starting position and the \n",
    "    length of the output instances. Your task is to slice the instances \n",
    "    from the same starting position for the given length.\n",
    "\n",
    "    Parameters:\n",
    "    x (numpy.ndarray): 1-d numpy array with 2-d numpy arrays as elements (n, ?, k).\n",
    "    s (int): The starting reference index in dimension 2.\n",
    "    m (int): The cutoff reference index in dimension 2.\n",
    "    \n",
    "    Returns:\n",
    "    numpy.ndarray: A 3-dimensional int numpy array of shape (n, m-s, k)\n",
    "    \"\"\"\n",
    "    spectrograms = x\n",
    "    \n",
    "    # Input function dimension specification\n",
    "    assert(spectrograms.ndim == 1)\n",
    "    for utter in spectrograms:\n",
    "        assert(utter.ndim == 2)\n",
    "\n",
    "    # Pre-define output function dimension specification\n",
    "    dim1 = spectrograms.shape[0]     # n\n",
    "    dim2 = m-s                      # m-s\n",
    "    dim3 = spectrograms[0].shape[1]  # k\n",
    "\n",
    "    result = np.zeros((dim1,dim2,dim3))\n",
    "\n",
    "    #### Start of your code ####\n",
    "\n",
    "    \n",
    "    ####  End of your code  ####\n",
    "\n",
    "    # Assert output function dimension specification\n",
    "    assert(result.shape[0] == dim1)\n",
    "    assert(result.shape[1] == dim2)\n",
    "    assert(result.shape[2] == dim3)\n",
    "    \n",
    "    return result"
   ]
  },
  {
   "cell_type": "markdown",
   "metadata": {
    "id": "E2bG0rKX2_oT"
   },
   "source": [
    "##### Test Example 1:"
   ]
  },
  {
   "cell_type": "code",
   "execution_count": null,
   "metadata": {
    "id": "2sWrW28-2_oT",
    "outputId": "a110b69e-4730-470e-bc3a-3055168be733"
   },
   "outputs": [
    {
     "name": "stdout",
     "output_type": "stream",
     "text": [
      "[[[0. 0. 0. 0.]\n",
      "  [0. 0. 0. 0.]]\n",
      "\n",
      " [[0. 0. 0. 0.]\n",
      "  [0. 0. 0. 0.]]\n",
      "\n",
      " [[0. 0. 0. 0.]\n",
      "  [0. 0. 0. 0.]]]\n"
     ]
    }
   ],
   "source": [
    "spectrograms = get_data_1()\n",
    "start = 0\n",
    "end = 2\n",
    "print(slice_fixed_point(spectrograms, start, end))"
   ]
  },
  {
   "cell_type": "markdown",
   "metadata": {
    "id": "HWangEV92_oU"
   },
   "source": [
    "##### Expected Output 1\n",
    "\n",
    "<img src=\"images/ex3-2.png\" width=\"600\">"
   ]
  },
  {
   "cell_type": "markdown",
   "metadata": {
    "id": "abbkbFkI2_oU"
   },
   "source": [
    "<table style = \"align:40%\">\n",
    "    <tr>\n",
    "        <td style=\"text-align:left;\"><tt><b> slice_fixed_point(<br>spectrograms, start, end) </b></tt></td> \n",
    "        <td style=\"text-align:left;\"><tt>\n",
    "            [[[3.&nbsp;1.&nbsp;4.&nbsp;1.] <br>\n",
    "&nbsp;&nbsp;[5.&nbsp;9.&nbsp;2.&nbsp;6.]] <br>\n",
    "\n",
    "&nbsp;[[9.&nbsp;7.&nbsp;9.&nbsp;3.] <br>\n",
    "&nbsp;&nbsp;[2.&nbsp;3.&nbsp;8.&nbsp;4.]] <br>\n",
    "\n",
    "&nbsp;[[6.&nbsp;2.&nbsp;6.&nbsp;4.] <br>\n",
    "&nbsp;&nbsp;[3.&nbsp;3.&nbsp;8.&nbsp;3.]]] <br>\n",
    "        </tt></td> \n",
    "    </tr>\n",
    "</table>"
   ]
  },
  {
   "cell_type": "markdown",
   "metadata": {
    "id": "lrDXF-3y2_oU"
   },
   "source": [
    "##### Test Example 2:"
   ]
  },
  {
   "cell_type": "code",
   "execution_count": null,
   "metadata": {
    "id": "AqabyogU2_oV"
   },
   "outputs": [],
   "source": [
    "data = get_data_2()\n",
    "s = 2\n",
    "m = 5\n",
    "print(slice_fixed_point(data, s, m)[1])"
   ]
  },
  {
   "cell_type": "markdown",
   "metadata": {
    "id": "ruAF9Psl2_oV"
   },
   "source": [
    "**Expected Output 2**: \n",
    "<table style = \"align:40%\">\n",
    "    <tr>\n",
    "        <td style=\"text-align:left;\"><tt><b> slice_fixed_point(<br>data, s, m)[1] </b></tt></td> \n",
    "        <td style=\"text-align:left;\"><tt>\n",
    "[[8.&nbsp;7.&nbsp;0.&nbsp;3.&nbsp;8.&nbsp;7.&nbsp;7.&nbsp;1.&nbsp;8.&nbsp;4.&nbsp;7.&nbsp;0.&nbsp;4.&nbsp;9.&nbsp;0.&nbsp;6.&nbsp;4.&nbsp;2.&nbsp;4.&nbsp;6.&nbsp;3.&nbsp;3.&nbsp;7.&nbsp;8. <br>\n",
    "&nbsp;&nbsp;5.&nbsp;0.&nbsp;8.&nbsp;5.&nbsp;4.&nbsp;7.&nbsp;4.&nbsp;1.&nbsp;3.&nbsp;3.&nbsp;9.&nbsp;2.&nbsp;5.&nbsp;2.&nbsp;3.&nbsp;5.] <br>\n",
    "&nbsp;[7.&nbsp;2.&nbsp;7.&nbsp;1.&nbsp;6.&nbsp;5.&nbsp;0.&nbsp;0.&nbsp;3.&nbsp;1.&nbsp;9.&nbsp;9.&nbsp;6.&nbsp;6.&nbsp;7.&nbsp;8.&nbsp;8.&nbsp;7.&nbsp;0.&nbsp;8.&nbsp;6.&nbsp;8.&nbsp;9.&nbsp;8. <br>\n",
    "&nbsp;&nbsp;3.&nbsp;6.&nbsp;1.&nbsp;7.&nbsp;4.&nbsp;9.&nbsp;2.&nbsp;0.&nbsp;8.&nbsp;2.&nbsp;7.&nbsp;8.&nbsp;4.&nbsp;4.&nbsp;1.&nbsp;7.] <br>\n",
    "&nbsp;[6.&nbsp;9.&nbsp;4.&nbsp;1.&nbsp;5.&nbsp;9.&nbsp;7.&nbsp;1.&nbsp;3.&nbsp;5.&nbsp;7.&nbsp;3.&nbsp;6.&nbsp;6.&nbsp;7.&nbsp;9.&nbsp;1.&nbsp;9.&nbsp;6.&nbsp;0.&nbsp;3.&nbsp;8.&nbsp;4.&nbsp;1. <br>\n",
    "&nbsp;&nbsp;4.&nbsp;5.&nbsp;0.&nbsp;3.&nbsp;1.&nbsp;4.&nbsp;4.&nbsp;4.&nbsp;0.&nbsp;0.&nbsp;8.&nbsp;4.&nbsp;6.&nbsp;9.&nbsp;3.&nbsp;3.]]\n",
    "        </tt></td> \n",
    "    </tr>\n",
    "</table>"
   ]
  },
  {
   "cell_type": "markdown",
   "metadata": {
    "id": "TC3fGgGz2_oV"
   },
   "source": [
    "---"
   ]
  },
  {
   "cell_type": "markdown",
   "metadata": {
    "id": "m8HOCznK2_oV"
   },
   "source": [
    "#### 3.3 Slicing: Random Point\n",
    "Takes one 3-dimensional array with the length of the output instances. Your task is to slice the instances from a random point in each of the utterances with the given length. Please use function `numpy.random.randint` for generating the starting position.\n",
    "\n",
    "To the extent that it is helpful, a formal description provided in the Appendix.\n",
    "\n",
    "**Your Task:** Implement the function `slice_random_point`."
   ]
  },
  {
   "cell_type": "code",
   "execution_count": null,
   "metadata": {
    "id": "Uw50g_Yp2_oW"
   },
   "outputs": [],
   "source": [
    "def slice_random_point(x, d):\n",
    "    \"\"\"\n",
    "    Takes one 3-dimensional array with the length of the output instances.\n",
    "    Your task is to slice the instances from a random point in each of the\n",
    "    utterances with the given length. Please use offset and refer to their \n",
    "    mathematical correspondance.\n",
    "\n",
    "    Parameters: \n",
    "    x (numpy.ndarray): 1-d numpy array with 2-d numpy arrays as elements (n, ?, k).\n",
    "    d (int): The resulting size of the data in dimension 2.\n",
    "    \n",
    "    Returns: \n",
    "    numpy.ndarray: A 3-dimensional int numpy array of shape (n, d, k)\n",
    "    \"\"\"\n",
    "    spectrograms = x\n",
    "    \n",
    "    # Input function dimension specification\n",
    "    assert(spectrograms.ndim == 1)\n",
    "    for utter in spectrograms:\n",
    "        assert(utter.ndim == 2)\n",
    "        assert(utter.shape[0] >= d)\n",
    "\n",
    "    offset = [np.random.randint(utter.shape[0]-d+1)\n",
    "              if utter.shape[0]-d > 0 else 0\n",
    "              for utter in spectrograms]\n",
    "\n",
    "    # Pre-define output function dimension specification\n",
    "    dim1 = spectrograms.shape[0]    # n\n",
    "    dim2 = d                       # d\n",
    "    dim3 = spectrograms[0].shape[1] # k\n",
    "\n",
    "    result = np.zeros((dim1,dim2,dim3))\n",
    "\n",
    "    #### Start of your code ####\n",
    "\n",
    "    \n",
    "    \n",
    "    \n",
    "    ####  End of your code  ####\n",
    "\n",
    "    # Assert output function dimension specification\n",
    "    assert(result.shape[0] == dim1)\n",
    "    assert(result.shape[1] == dim2)\n",
    "    assert(result.shape[2] == dim3)\n",
    "    \n",
    "    return result"
   ]
  },
  {
   "cell_type": "markdown",
   "metadata": {
    "id": "YdFlj7v72_oW"
   },
   "source": [
    "##### Test Example 1:"
   ]
  },
  {
   "cell_type": "code",
   "execution_count": null,
   "metadata": {
    "id": "u8S10qVh2_oX",
    "outputId": "29740956-8ea7-43df-d1fe-494decda6790"
   },
   "outputs": [
    {
     "name": "stdout",
     "output_type": "stream",
     "text": [
      "[[[0. 0. 0. 0.]\n",
      "  [0. 0. 0. 0.]]\n",
      "\n",
      " [[0. 0. 0. 0.]\n",
      "  [0. 0. 0. 0.]]\n",
      "\n",
      " [[0. 0. 0. 0.]\n",
      "  [0. 0. 0. 0.]]]\n"
     ]
    }
   ],
   "source": [
    "np.random.seed(1)\n",
    "spectrograms = get_data_1()\n",
    "duration = 2\n",
    "print(slice_random_point(spectrograms, duration))"
   ]
  },
  {
   "cell_type": "markdown",
   "metadata": {
    "id": "nMLLJrmH2_oX"
   },
   "source": [
    "##### Expected Output 1\n",
    "\n",
    "<img src=\"images/ex3-3.png\" width=\"600\">"
   ]
  },
  {
   "cell_type": "markdown",
   "metadata": {
    "id": "WP4Fikbv2_oX"
   },
   "source": [
    "<table style = \"align:40%\">\n",
    "    <tr>\n",
    "        <td style=\"text-align:left;\"><tt><b> slice_random_point(<br>spectrograms, duration) </b></tt></td> \n",
    "        <td style=\"text-align:left;\"><tt>\n",
    "            [[[5.&nbsp;9.&nbsp;2.&nbsp;6.] <br>\n",
    "&nbsp;&nbsp;[5.&nbsp;3.&nbsp;5.&nbsp;8.]] <br>\n",
    "\n",
    "&nbsp;[[9.&nbsp;7.&nbsp;9.&nbsp;3.] <br>\n",
    "&nbsp;&nbsp;[2.&nbsp;3.&nbsp;8.&nbsp;4.]] <br>\n",
    "\n",
    "&nbsp;[[6.&nbsp;2.&nbsp;6.&nbsp;4.] <br>\n",
    "&nbsp;&nbsp;[3.&nbsp;3.&nbsp;8.&nbsp;3.]]] <br>\n",
    "        </tt></td> \n",
    "    </tr>\n",
    "</table>"
   ]
  },
  {
   "cell_type": "markdown",
   "metadata": {
    "id": "XNRsTs_o2_oY"
   },
   "source": [
    "##### Test Example 2:"
   ]
  },
  {
   "cell_type": "code",
   "execution_count": null,
   "metadata": {
    "id": "1PBUV-rW2_oY",
    "outputId": "0cef9792-f27c-4d0d-d17f-bd2a292640d1"
   },
   "outputs": [
    {
     "name": "stdout",
     "output_type": "stream",
     "text": [
      "[[0. 0. 0. 0. 0. 0. 0. 0. 0. 0. 0. 0. 0. 0. 0. 0. 0. 0. 0. 0. 0. 0. 0. 0.\n",
      "  0. 0. 0. 0. 0. 0. 0. 0. 0. 0. 0. 0. 0. 0. 0. 0.]\n",
      " [0. 0. 0. 0. 0. 0. 0. 0. 0. 0. 0. 0. 0. 0. 0. 0. 0. 0. 0. 0. 0. 0. 0. 0.\n",
      "  0. 0. 0. 0. 0. 0. 0. 0. 0. 0. 0. 0. 0. 0. 0. 0.]\n",
      " [0. 0. 0. 0. 0. 0. 0. 0. 0. 0. 0. 0. 0. 0. 0. 0. 0. 0. 0. 0. 0. 0. 0. 0.\n",
      "  0. 0. 0. 0. 0. 0. 0. 0. 0. 0. 0. 0. 0. 0. 0. 0.]\n",
      " [0. 0. 0. 0. 0. 0. 0. 0. 0. 0. 0. 0. 0. 0. 0. 0. 0. 0. 0. 0. 0. 0. 0. 0.\n",
      "  0. 0. 0. 0. 0. 0. 0. 0. 0. 0. 0. 0. 0. 0. 0. 0.]]\n"
     ]
    }
   ],
   "source": [
    "data = get_data_2()\n",
    "d = 4\n",
    "print(slice_random_point(data, d)[1])"
   ]
  },
  {
   "cell_type": "markdown",
   "metadata": {
    "id": "IVCHRmEy2_oZ"
   },
   "source": [
    "**Expected Output 2**: \n",
    "<table style = \"align:40%\">\n",
    "    <tr>\n",
    "        <td style=\"text-align:left;\"><tt><b> slice_random_point(<br>data, d)[1] </b></tt></td> \n",
    "        <td style=\"text-align:left;\"><tt>\n",
    "[[3.&nbsp;3.&nbsp;7.&nbsp;9.&nbsp;9.&nbsp;9.&nbsp;7.&nbsp;3.&nbsp;2.&nbsp;3.&nbsp;9.&nbsp;7.&nbsp;7.&nbsp;5.&nbsp;1.&nbsp;2.&nbsp;2.&nbsp;8.&nbsp;1.&nbsp;5.&nbsp;8.&nbsp;4.&nbsp;0.&nbsp;2. <br>\n",
    "&nbsp;&nbsp;5.&nbsp;5.&nbsp;0.&nbsp;8.&nbsp;1.&nbsp;1.&nbsp;0.&nbsp;3.&nbsp;8.&nbsp;8.&nbsp;4.&nbsp;4.&nbsp;0.&nbsp;9.&nbsp;3.&nbsp;7.] <br>\n",
    "&nbsp;[3.&nbsp;2.&nbsp;1.&nbsp;1.&nbsp;2.&nbsp;1.&nbsp;4.&nbsp;2.&nbsp;5.&nbsp;5.&nbsp;5.&nbsp;2.&nbsp;5.&nbsp;7.&nbsp;7.&nbsp;6.&nbsp;1.&nbsp;6.&nbsp;7.&nbsp;2.&nbsp;3.&nbsp;1.&nbsp;9.&nbsp;5. <br>\n",
    "&nbsp;&nbsp;9.&nbsp;9.&nbsp;2.&nbsp;0.&nbsp;9.&nbsp;1.&nbsp;9.&nbsp;0.&nbsp;6.&nbsp;0.&nbsp;4.&nbsp;8.&nbsp;4.&nbsp;3.&nbsp;3.&nbsp;8.] <br>\n",
    "&nbsp;[8.&nbsp;7.&nbsp;0.&nbsp;3.&nbsp;8.&nbsp;7.&nbsp;7.&nbsp;1.&nbsp;8.&nbsp;4.&nbsp;7.&nbsp;0.&nbsp;4.&nbsp;9.&nbsp;0.&nbsp;6.&nbsp;4.&nbsp;2.&nbsp;4.&nbsp;6.&nbsp;3.&nbsp;3.&nbsp;7.&nbsp;8. <br>\n",
    "&nbsp;&nbsp;5.&nbsp;0.&nbsp;8.&nbsp;5.&nbsp;4.&nbsp;7.&nbsp;4.&nbsp;1.&nbsp;3.&nbsp;3.&nbsp;9.&nbsp;2.&nbsp;5.&nbsp;2.&nbsp;3.&nbsp;5.] <br>\n",
    "&nbsp;[7.&nbsp;2.&nbsp;7.&nbsp;1.&nbsp;6.&nbsp;5.&nbsp;0.&nbsp;0.&nbsp;3.&nbsp;1.&nbsp;9.&nbsp;9.&nbsp;6.&nbsp;6.&nbsp;7.&nbsp;8.&nbsp;8.&nbsp;7.&nbsp;0.&nbsp;8.&nbsp;6.&nbsp;8.&nbsp;9.&nbsp;8. <br>\n",
    "&nbsp;&nbsp;3.&nbsp;6.&nbsp;1.&nbsp;7.&nbsp;4.&nbsp;9.&nbsp;2.&nbsp;0.&nbsp;8.&nbsp;2.&nbsp;7.&nbsp;8.&nbsp;4.&nbsp;4.&nbsp;1.&nbsp;7.]]\n",
    "        </tt></td> \n",
    "    </tr>\n",
    "</table>"
   ]
  },
  {
   "cell_type": "markdown",
   "metadata": {
    "id": "M59MvQ_o2_oZ"
   },
   "source": [
    "---"
   ]
  },
  {
   "cell_type": "markdown",
   "metadata": {
    "id": "a5NVT0ZO2_oa"
   },
   "source": [
    "#### 3.4 Padding: Ending Pattern\n",
    "Takes one 3-dimensional array. Your task is to pad the instances from the end position as shown in the example below. That is, you need to pad the reflection of the utterance mirrored along the edge values of the array.\n",
    "\n",
    "To the extent that it is helpful, a formal description provided in the Appendix.\n",
    "\n",
    "**Your Task:** Implement the function `pad_ending_pattern`."
   ]
  },
  {
   "cell_type": "code",
   "execution_count": null,
   "metadata": {
    "id": "WotHIXHD2_oa"
   },
   "outputs": [],
   "source": [
    "def pad_ending_pattern(x):\n",
    "    \"\"\"\n",
    "    Takes one 3-dimensional array. Your task is to pad the instances from \n",
    "    the end position as shown in the example below. That is, you need to \n",
    "    pads with the reflection of the vector mirrored along the edge of the array.\n",
    "    \n",
    "    Parameters: \n",
    "    x (numpy.ndarray): 1-d numpy array with 2-d numpy arrays as elements.\n",
    "    \n",
    "    Returns: \n",
    "    numpy.ndarray: 3-dimensional int numpy array\n",
    "    \"\"\"\n",
    "    spectrograms = x\n",
    "    \n",
    "    # Input function dimension specification\n",
    "    assert(spectrograms.ndim == 1)\n",
    "    for utter in spectrograms:\n",
    "        assert(utter.ndim == 2)\n",
    "\n",
    "    # Pre-define output function dimension specification\n",
    "    dim1 = spectrograms.shape[0]    # n\n",
    "    dim2 = max([utter.shape[0] for utter in spectrograms]) # m\n",
    "    dim3 = spectrograms[0].shape[1] # k\n",
    "\n",
    "    result = np.zeros((dim1, dim2, dim3))\n",
    "\n",
    "    #### Start of your code ####\n",
    "\n",
    "    \n",
    "    \n",
    "    ####  End of your code  ####\n",
    "\n",
    "    # Assert output function dimension specification\n",
    "    assert(result.shape[0] == dim1)\n",
    "    assert(result.shape[1] == dim2)\n",
    "    assert(result.shape[2] == dim3)\n",
    "    \n",
    "    return result"
   ]
  },
  {
   "cell_type": "markdown",
   "metadata": {
    "id": "d4q3FuLC2_ob"
   },
   "source": [
    "##### Test Example 1:"
   ]
  },
  {
   "cell_type": "code",
   "execution_count": null,
   "metadata": {
    "id": "c7GzF6WC2_ob",
    "outputId": "9de507ad-0794-4e05-d688-f53a1c4fdc02"
   },
   "outputs": [
    {
     "name": "stdout",
     "output_type": "stream",
     "text": [
      "[[[0. 0. 0. 0.]\n",
      "  [0. 0. 0. 0.]\n",
      "  [0. 0. 0. 0.]\n",
      "  [0. 0. 0. 0.]]\n",
      "\n",
      " [[0. 0. 0. 0.]\n",
      "  [0. 0. 0. 0.]\n",
      "  [0. 0. 0. 0.]\n",
      "  [0. 0. 0. 0.]]\n",
      "\n",
      " [[0. 0. 0. 0.]\n",
      "  [0. 0. 0. 0.]\n",
      "  [0. 0. 0. 0.]\n",
      "  [0. 0. 0. 0.]]]\n"
     ]
    }
   ],
   "source": [
    "spectrograms = get_data_1()\n",
    "duration = 2\n",
    "print(pad_ending_pattern(spectrograms))"
   ]
  },
  {
   "cell_type": "markdown",
   "metadata": {
    "id": "B1dfPuZg2_oc"
   },
   "source": [
    "##### Expected Output 1\n",
    "<img src=\"images/ex3-4.png\" width=\"600\">"
   ]
  },
  {
   "cell_type": "markdown",
   "metadata": {
    "id": "uEwfRDwl2_oc"
   },
   "source": [
    "<table style = \"align:40%\">\n",
    "    <tr>\n",
    "        <td style=\"text-align:left;\"><tt><b> pad_ending_pattern(spectrograms) </b></tt></td> \n",
    "        <td style=\"text-align:left;\"><tt>\n",
    "[[[3.&nbsp;1.&nbsp;4.&nbsp;1.] <br>\n",
    "&nbsp;&nbsp;[5.&nbsp;9.&nbsp;2.&nbsp;6.] <br>\n",
    "&nbsp;&nbsp;[5.&nbsp;3.&nbsp;5.&nbsp;8.] <br>\n",
    "&nbsp;&nbsp;[5.&nbsp;3.&nbsp;5.&nbsp;8.]] <br>\n",
    "\n",
    "&nbsp;[[9.&nbsp;7.&nbsp;9.&nbsp;3.] <br>\n",
    "&nbsp;&nbsp;[2.&nbsp;3.&nbsp;8.&nbsp;4.] <br>\n",
    "&nbsp;&nbsp;[2.&nbsp;3.&nbsp;8.&nbsp;4.] <br>\n",
    "&nbsp;&nbsp;[9.&nbsp;7.&nbsp;9.&nbsp;3.]] <br>\n",
    "\n",
    "&nbsp;[[6.&nbsp;2.&nbsp;6.&nbsp;4.] <br>\n",
    "&nbsp;&nbsp;[3.&nbsp;3.&nbsp;8.&nbsp;3.] <br>\n",
    "&nbsp;&nbsp;[2.&nbsp;7.&nbsp;9.&nbsp;5.] <br>\n",
    "&nbsp;&nbsp;[0.&nbsp;2.&nbsp;8.&nbsp;8.]]]\n",
    "        </tt></td> \n",
    "    </tr>\n",
    "</table>"
   ]
  },
  {
   "cell_type": "markdown",
   "metadata": {
    "id": "4DSRcXqF2_oc"
   },
   "source": [
    "##### Test Example 2:"
   ]
  },
  {
   "cell_type": "code",
   "execution_count": null,
   "metadata": {
    "id": "PlrcHn_02_oc",
    "outputId": "de055f68-0971-4724-fecc-7a3e72a73d50"
   },
   "outputs": [
    {
     "name": "stdout",
     "output_type": "stream",
     "text": [
      "[[0. 0. 0. 0. 0. 0. 0. 0. 0. 0. 0. 0. 0. 0. 0. 0. 0. 0. 0. 0. 0. 0. 0. 0.\n",
      "  0. 0. 0. 0. 0. 0. 0. 0. 0. 0. 0. 0. 0. 0. 0. 0.]\n",
      " [0. 0. 0. 0. 0. 0. 0. 0. 0. 0. 0. 0. 0. 0. 0. 0. 0. 0. 0. 0. 0. 0. 0. 0.\n",
      "  0. 0. 0. 0. 0. 0. 0. 0. 0. 0. 0. 0. 0. 0. 0. 0.]\n",
      " [0. 0. 0. 0. 0. 0. 0. 0. 0. 0. 0. 0. 0. 0. 0. 0. 0. 0. 0. 0. 0. 0. 0. 0.\n",
      "  0. 0. 0. 0. 0. 0. 0. 0. 0. 0. 0. 0. 0. 0. 0. 0.]\n",
      " [0. 0. 0. 0. 0. 0. 0. 0. 0. 0. 0. 0. 0. 0. 0. 0. 0. 0. 0. 0. 0. 0. 0. 0.\n",
      "  0. 0. 0. 0. 0. 0. 0. 0. 0. 0. 0. 0. 0. 0. 0. 0.]\n",
      " [0. 0. 0. 0. 0. 0. 0. 0. 0. 0. 0. 0. 0. 0. 0. 0. 0. 0. 0. 0. 0. 0. 0. 0.\n",
      "  0. 0. 0. 0. 0. 0. 0. 0. 0. 0. 0. 0. 0. 0. 0. 0.]\n",
      " [0. 0. 0. 0. 0. 0. 0. 0. 0. 0. 0. 0. 0. 0. 0. 0. 0. 0. 0. 0. 0. 0. 0. 0.\n",
      "  0. 0. 0. 0. 0. 0. 0. 0. 0. 0. 0. 0. 0. 0. 0. 0.]\n",
      " [0. 0. 0. 0. 0. 0. 0. 0. 0. 0. 0. 0. 0. 0. 0. 0. 0. 0. 0. 0. 0. 0. 0. 0.\n",
      "  0. 0. 0. 0. 0. 0. 0. 0. 0. 0. 0. 0. 0. 0. 0. 0.]\n",
      " [0. 0. 0. 0. 0. 0. 0. 0. 0. 0. 0. 0. 0. 0. 0. 0. 0. 0. 0. 0. 0. 0. 0. 0.\n",
      "  0. 0. 0. 0. 0. 0. 0. 0. 0. 0. 0. 0. 0. 0. 0. 0.]]\n"
     ]
    }
   ],
   "source": [
    "data = get_data_2()\n",
    "print(pad_ending_pattern(data)[4])"
   ]
  },
  {
   "cell_type": "markdown",
   "metadata": {
    "id": "buUulb222_od"
   },
   "source": [
    "**Expected Output 2**: \n",
    "<table style = \"align:40%\">\n",
    "    <tr>\n",
    "        <td style=\"text-align:left;\"><tt><b> pad_ending_pattern(<br>data)[4] </b></tt></td> \n",
    "        <td style=\"text-align:left;\"><tt>\n",
    "[[8.&nbsp;2.&nbsp;4.&nbsp;3.&nbsp;1.&nbsp;6.&nbsp;5.&nbsp;8.&nbsp;4.&nbsp;3.&nbsp;6.&nbsp;5.&nbsp;3.&nbsp;7.&nbsp;8.&nbsp;8.&nbsp;3.&nbsp;7.&nbsp;8.&nbsp;5.&nbsp;7.&nbsp;2.&nbsp;7.&nbsp;8. <br>\n",
    "&nbsp;&nbsp;0.&nbsp;7.&nbsp;4.&nbsp;8.&nbsp;4.&nbsp;4.&nbsp;0.&nbsp;4.&nbsp;8.&nbsp;0.&nbsp;0.&nbsp;4.&nbsp;7.&nbsp;3.&nbsp;7.&nbsp;7.] <br>\n",
    "&nbsp;[2.&nbsp;2.&nbsp;1.&nbsp;7.&nbsp;0.&nbsp;7.&nbsp;5.&nbsp;9.&nbsp;7.&nbsp;1.&nbsp;1.&nbsp;2.&nbsp;4.&nbsp;1.&nbsp;4.&nbsp;5.&nbsp;8.&nbsp;2.&nbsp;1.&nbsp;6.&nbsp;3.&nbsp;0.&nbsp;3.&nbsp;9. <br>\n",
    "&nbsp;&nbsp;5.&nbsp;1.&nbsp;3.&nbsp;7.&nbsp;1.&nbsp;1.&nbsp;7.&nbsp;9.&nbsp;4.&nbsp;2.&nbsp;0.&nbsp;3.&nbsp;2.&nbsp;4.&nbsp;0.&nbsp;0.] <br>\n",
    "&nbsp;[9.&nbsp;3.&nbsp;8.&nbsp;3.&nbsp;0.&nbsp;4.&nbsp;4.&nbsp;0.&nbsp;2.&nbsp;5.&nbsp;5.&nbsp;8.&nbsp;2.&nbsp;7.&nbsp;3.&nbsp;6.&nbsp;1.&nbsp;0.&nbsp;2.&nbsp;2.&nbsp;5.&nbsp;5.&nbsp;1.&nbsp;2. <br>\n",
    "&nbsp;&nbsp;8.&nbsp;7.&nbsp;3.&nbsp;7.&nbsp;3.&nbsp;1.&nbsp;0.&nbsp;1.&nbsp;0.&nbsp;8.&nbsp;8.&nbsp;5.&nbsp;3.&nbsp;3.&nbsp;1.&nbsp;0.] <br>\n",
    "&nbsp;[6.&nbsp;1.&nbsp;6.&nbsp;9.&nbsp;5.&nbsp;7.&nbsp;0.&nbsp;1.&nbsp;4.&nbsp;9.&nbsp;5.&nbsp;1.&nbsp;6.&nbsp;5.&nbsp;4.&nbsp;4.&nbsp;4.&nbsp;7.&nbsp;2.&nbsp;2.&nbsp;6.&nbsp;5.&nbsp;3.&nbsp;0. <br>\n",
    "&nbsp;&nbsp;8.&nbsp;8.&nbsp;1.&nbsp;8.&nbsp;7.&nbsp;5.&nbsp;7.&nbsp;9.&nbsp;4.&nbsp;0.&nbsp;7.&nbsp;2.&nbsp;3.&nbsp;9.&nbsp;5.&nbsp;4.] <br>\n",
    "&nbsp;[0.&nbsp;4.&nbsp;5.&nbsp;8.&nbsp;1.&nbsp;4.&nbsp;8.&nbsp;0.&nbsp;1.&nbsp;1.&nbsp;8.&nbsp;9.&nbsp;4.&nbsp;9.&nbsp;0.&nbsp;3.&nbsp;0.&nbsp;7.&nbsp;0.&nbsp;8.&nbsp;1.&nbsp;2.&nbsp;8.&nbsp;5. <br>\n",
    "&nbsp;&nbsp;8.&nbsp;2.&nbsp;1.&nbsp;3.&nbsp;5.&nbsp;0.&nbsp;2.&nbsp;5.&nbsp;8.&nbsp;6.&nbsp;2.&nbsp;7.&nbsp;7.&nbsp;1.&nbsp;8.&nbsp;4.] <br>\n",
    "&nbsp;[9.&nbsp;3.&nbsp;3.&nbsp;2.&nbsp;9.&nbsp;0.&nbsp;4.&nbsp;6.&nbsp;4.&nbsp;3.&nbsp;2.&nbsp;3.&nbsp;1.&nbsp;1.&nbsp;2.&nbsp;7.&nbsp;2.&nbsp;7.&nbsp;0.&nbsp;1.&nbsp;8.&nbsp;0.&nbsp;5.&nbsp;2. <br>\n",
    "&nbsp;&nbsp;8.&nbsp;0.&nbsp;4.&nbsp;0.&nbsp;3.&nbsp;8.&nbsp;1.&nbsp;6.&nbsp;4.&nbsp;6.&nbsp;9.&nbsp;6.&nbsp;4.&nbsp;7.&nbsp;2.&nbsp;9.] <br>\n",
    "&nbsp;[9.&nbsp;3.&nbsp;3.&nbsp;2.&nbsp;9.&nbsp;0.&nbsp;4.&nbsp;6.&nbsp;4.&nbsp;3.&nbsp;2.&nbsp;3.&nbsp;1.&nbsp;1.&nbsp;2.&nbsp;7.&nbsp;2.&nbsp;7.&nbsp;0.&nbsp;1.&nbsp;8.&nbsp;0.&nbsp;5.&nbsp;2. <br>\n",
    "&nbsp;&nbsp;8.&nbsp;0.&nbsp;4.&nbsp;0.&nbsp;3.&nbsp;8.&nbsp;1.&nbsp;6.&nbsp;4.&nbsp;6.&nbsp;9.&nbsp;6.&nbsp;4.&nbsp;7.&nbsp;2.&nbsp;9.] <br>\n",
    "&nbsp;[0.&nbsp;4.&nbsp;5.&nbsp;8.&nbsp;1.&nbsp;4.&nbsp;8.&nbsp;0.&nbsp;1.&nbsp;1.&nbsp;8.&nbsp;9.&nbsp;4.&nbsp;9.&nbsp;0.&nbsp;3.&nbsp;0.&nbsp;7.&nbsp;0.&nbsp;8.&nbsp;1.&nbsp;2.&nbsp;8.&nbsp;5. <br>\n",
    "&nbsp;&nbsp;8.&nbsp;2.&nbsp;1.&nbsp;3.&nbsp;5.&nbsp;0.&nbsp;2.&nbsp;5.&nbsp;8.&nbsp;6.&nbsp;2.&nbsp;7.&nbsp;7.&nbsp;1.&nbsp;8.&nbsp;4.]]\n",
    "        </tt></td> \n",
    "    </tr>\n",
    "</table>"
   ]
  },
  {
   "cell_type": "markdown",
   "metadata": {
    "id": "nweCFPHP2_oe"
   },
   "source": [
    "---"
   ]
  },
  {
   "cell_type": "markdown",
   "metadata": {
    "id": "qOioBkwQ2_oe"
   },
   "source": [
    "#### 3.5 Padding: Constant Central Pattern\n",
    "Takes one 3-dimensional array with the constant value of padding. Your task is to pad the instances with the given constant value while maintaining the array at the center of the padding.\n",
    "\n",
    "To the extent that it is helpful, a formal description provided in the Appendix.\n",
    "\n",
    "**Your Task:** Implement the function `pad_constant_central_pattern`."
   ]
  },
  {
   "cell_type": "code",
   "execution_count": null,
   "metadata": {
    "id": "ETPF-fd72_oe"
   },
   "outputs": [],
   "source": [
    "def pad_constant_central_pattern(x, cval):\n",
    "    \"\"\"\n",
    "    Takes one 3-dimensional array with the constant value of padding. \n",
    "    Your task is to pad the instances with the given constant value while\n",
    "    maintaining the array at the center of the padding.\n",
    "\n",
    "    Parameters: \n",
    "    x (numpy.ndarray): 1-d numpy array with 2-d numpy arrays as elements.\n",
    "    cval (numpy.int64): scalar quantity.\n",
    "    \n",
    "    Returns: \n",
    "    numpy.ndarray: 3-dimensional int numpy array, (n, m, k).\n",
    "    \"\"\"\n",
    "    spectrograms = x\n",
    "    \n",
    "    # Input function dimension specification\n",
    "    assert(spectrograms.ndim == 1)\n",
    "    for utter in spectrograms:\n",
    "        assert(utter.ndim == 2)\n",
    "\n",
    "    dim1 = spectrograms.shape[0]    # n\n",
    "    dim2 = max([utter.shape[0] for utter in spectrograms]) # m\n",
    "    dim3 = spectrograms[0].shape[1] # k\n",
    "\n",
    "    result = np.ones((dim1,dim2,dim3))\n",
    "\n",
    "    #### Start of your code ####\n",
    "\n",
    "    \n",
    "    \n",
    "    \n",
    "    \n",
    "    \n",
    "    ####  End of your code  ####\n",
    "\n",
    "    # Assert output function dimension specification\n",
    "    assert(result.shape[0] == dim1)\n",
    "    assert(result.shape[1] == dim2)\n",
    "    assert(result.shape[2] == dim3)\n",
    "    \n",
    "    return result"
   ]
  },
  {
   "cell_type": "markdown",
   "metadata": {
    "id": "kjJeN4ZT2_oe"
   },
   "source": [
    "##### Test Example 1:"
   ]
  },
  {
   "cell_type": "code",
   "execution_count": null,
   "metadata": {
    "id": "uuf2G_X72_of",
    "outputId": "6dfb44cb-0203-43ba-f7b0-7eb5fe18e46e"
   },
   "outputs": [
    {
     "name": "stdout",
     "output_type": "stream",
     "text": [
      "[[[1. 1. 1. 1.]\n",
      "  [1. 1. 1. 1.]\n",
      "  [1. 1. 1. 1.]\n",
      "  [1. 1. 1. 1.]]\n",
      "\n",
      " [[1. 1. 1. 1.]\n",
      "  [1. 1. 1. 1.]\n",
      "  [1. 1. 1. 1.]\n",
      "  [1. 1. 1. 1.]]\n",
      "\n",
      " [[1. 1. 1. 1.]\n",
      "  [1. 1. 1. 1.]\n",
      "  [1. 1. 1. 1.]\n",
      "  [1. 1. 1. 1.]]]\n"
     ]
    }
   ],
   "source": [
    "spectrograms = get_data_1()\n",
    "duration = 2\n",
    "print(pad_constant_central_pattern(spectrograms, 0))"
   ]
  },
  {
   "cell_type": "markdown",
   "metadata": {
    "id": "zdanp_tl2_og"
   },
   "source": [
    "##### Expected Output 1\n",
    "\n",
    "<img src=\"images/ex3-5.png\" width=\"600\">"
   ]
  },
  {
   "cell_type": "markdown",
   "metadata": {
    "id": "TywSru762_og"
   },
   "source": [
    "<table style = \"align:40%\">\n",
    "    <tr>\n",
    "        <td style=\"text-align:left;\"><tt><b> pad_constant_central_pattern(spectrograms, 0) </b></tt></td> \n",
    "        <td style=\"text-align:left;\"><tt>\n",
    "[[[3.&nbsp;1.&nbsp;4.&nbsp;1.] <br>\n",
    "&nbsp;&nbsp;[5.&nbsp;9.&nbsp;2.&nbsp;6.] <br>\n",
    "&nbsp;&nbsp;[5.&nbsp;3.&nbsp;5.&nbsp;8.] <br>\n",
    "&nbsp;&nbsp;[0.&nbsp;0.&nbsp;0.&nbsp;0.]] <br>\n",
    "\n",
    "&nbsp;[[0.&nbsp;0.&nbsp;0.&nbsp;0.] <br>\n",
    "&nbsp;&nbsp;[9.&nbsp;7.&nbsp;9.&nbsp;3.] <br>\n",
    "&nbsp;&nbsp;[2.&nbsp;3.&nbsp;8.&nbsp;4.] <br>\n",
    "&nbsp;&nbsp;[0.&nbsp;0.&nbsp;0.&nbsp;0.]] <br>\n",
    "\n",
    "&nbsp;[[6.&nbsp;2.&nbsp;6.&nbsp;4.] <br>\n",
    "&nbsp;&nbsp;[3.&nbsp;3.&nbsp;8.&nbsp;3.] <br>\n",
    "&nbsp;&nbsp;[2.&nbsp;7.&nbsp;9.&nbsp;5.] <br>\n",
    "&nbsp;&nbsp;[0.&nbsp;2.&nbsp;8.&nbsp;8.]]]\n",
    "        </tt></td> \n",
    "    </tr>\n",
    "</table>"
   ]
  },
  {
   "cell_type": "markdown",
   "metadata": {
    "id": "mEfzrc9L2_og"
   },
   "source": [
    "##### Test Example 2:"
   ]
  },
  {
   "cell_type": "code",
   "execution_count": null,
   "metadata": {
    "id": "RaB8b0Ef2_oh",
    "outputId": "f8018d48-4156-4ca0-ccc5-06e2d1b94d6c"
   },
   "outputs": [
    {
     "name": "stdout",
     "output_type": "stream",
     "text": [
      "[[1. 1. 1. 1. 1. 1. 1. 1. 1. 1. 1. 1. 1. 1. 1. 1. 1. 1. 1. 1. 1. 1. 1. 1.\n",
      "  1. 1. 1. 1. 1. 1. 1. 1. 1. 1. 1. 1. 1. 1. 1. 1.]\n",
      " [1. 1. 1. 1. 1. 1. 1. 1. 1. 1. 1. 1. 1. 1. 1. 1. 1. 1. 1. 1. 1. 1. 1. 1.\n",
      "  1. 1. 1. 1. 1. 1. 1. 1. 1. 1. 1. 1. 1. 1. 1. 1.]\n",
      " [1. 1. 1. 1. 1. 1. 1. 1. 1. 1. 1. 1. 1. 1. 1. 1. 1. 1. 1. 1. 1. 1. 1. 1.\n",
      "  1. 1. 1. 1. 1. 1. 1. 1. 1. 1. 1. 1. 1. 1. 1. 1.]\n",
      " [1. 1. 1. 1. 1. 1. 1. 1. 1. 1. 1. 1. 1. 1. 1. 1. 1. 1. 1. 1. 1. 1. 1. 1.\n",
      "  1. 1. 1. 1. 1. 1. 1. 1. 1. 1. 1. 1. 1. 1. 1. 1.]\n",
      " [1. 1. 1. 1. 1. 1. 1. 1. 1. 1. 1. 1. 1. 1. 1. 1. 1. 1. 1. 1. 1. 1. 1. 1.\n",
      "  1. 1. 1. 1. 1. 1. 1. 1. 1. 1. 1. 1. 1. 1. 1. 1.]\n",
      " [1. 1. 1. 1. 1. 1. 1. 1. 1. 1. 1. 1. 1. 1. 1. 1. 1. 1. 1. 1. 1. 1. 1. 1.\n",
      "  1. 1. 1. 1. 1. 1. 1. 1. 1. 1. 1. 1. 1. 1. 1. 1.]\n",
      " [1. 1. 1. 1. 1. 1. 1. 1. 1. 1. 1. 1. 1. 1. 1. 1. 1. 1. 1. 1. 1. 1. 1. 1.\n",
      "  1. 1. 1. 1. 1. 1. 1. 1. 1. 1. 1. 1. 1. 1. 1. 1.]\n",
      " [1. 1. 1. 1. 1. 1. 1. 1. 1. 1. 1. 1. 1. 1. 1. 1. 1. 1. 1. 1. 1. 1. 1. 1.\n",
      "  1. 1. 1. 1. 1. 1. 1. 1. 1. 1. 1. 1. 1. 1. 1. 1.]]\n"
     ]
    }
   ],
   "source": [
    "data = get_data_2()\n",
    "print(pad_constant_central_pattern(data, cval = 0)[0])"
   ]
  },
  {
   "cell_type": "markdown",
   "metadata": {
    "id": "anWvGVr12_oh"
   },
   "source": [
    "**Expected Output 2**: \n",
    "<table style = \"align:40%\">\n",
    "    <tr>\n",
    "        <td style=\"text-align:left;\"><tt><b> pad_constant_central_pattern(<br>data, cval = 0)[0] </b></tt></td> \n",
    "        <td style=\"text-align:left;\"><tt>\n",
    "[[0.&nbsp;0.&nbsp;0.&nbsp;0.&nbsp;0.&nbsp;0.&nbsp;0.&nbsp;0.&nbsp;0.&nbsp;0.&nbsp;0.&nbsp;0.&nbsp;0.&nbsp;0.&nbsp;0.&nbsp;0.&nbsp;0.&nbsp;0.&nbsp;0.&nbsp;0.&nbsp;0.&nbsp;0.&nbsp;0.&nbsp;0. <br>\n",
    "&nbsp;&nbsp;0.&nbsp;0.&nbsp;0.&nbsp;0.&nbsp;0.&nbsp;0.&nbsp;0.&nbsp;0.&nbsp;0.&nbsp;0.&nbsp;0.&nbsp;0.&nbsp;0.&nbsp;0.&nbsp;0.&nbsp;0.] <br>\n",
    "&nbsp;[3.&nbsp;5.&nbsp;2.&nbsp;4.&nbsp;7.&nbsp;6.&nbsp;8.&nbsp;8.&nbsp;1.&nbsp;6.&nbsp;7.&nbsp;7.&nbsp;8.&nbsp;1.&nbsp;5.&nbsp;9.&nbsp;8.&nbsp;9.&nbsp;4.&nbsp;3.&nbsp;0.&nbsp;3.&nbsp;5.&nbsp;0. <br>\n",
    "&nbsp;&nbsp;2.&nbsp;3.&nbsp;8.&nbsp;1.&nbsp;3.&nbsp;3.&nbsp;3.&nbsp;7.&nbsp;0.&nbsp;1.&nbsp;9.&nbsp;9.&nbsp;0.&nbsp;4.&nbsp;7.&nbsp;3.] <br>\n",
    "&nbsp;[2.&nbsp;7.&nbsp;2.&nbsp;0.&nbsp;0.&nbsp;4.&nbsp;5.&nbsp;5.&nbsp;6.&nbsp;8.&nbsp;4.&nbsp;1.&nbsp;4.&nbsp;9.&nbsp;8.&nbsp;1.&nbsp;1.&nbsp;7.&nbsp;9.&nbsp;9.&nbsp;3.&nbsp;6.&nbsp;7.&nbsp;2. <br>\n",
    "&nbsp;&nbsp;0.&nbsp;3.&nbsp;5.&nbsp;9.&nbsp;4.&nbsp;4.&nbsp;6.&nbsp;4.&nbsp;4.&nbsp;3.&nbsp;4.&nbsp;4.&nbsp;8.&nbsp;4.&nbsp;3.&nbsp;7.] <br>\n",
    "&nbsp;[5.&nbsp;5.&nbsp;0.&nbsp;1.&nbsp;5.&nbsp;9.&nbsp;3.&nbsp;0.&nbsp;5.&nbsp;0.&nbsp;1.&nbsp;2.&nbsp;4.&nbsp;2.&nbsp;0.&nbsp;3.&nbsp;2.&nbsp;0.&nbsp;7.&nbsp;5.&nbsp;9.&nbsp;0.&nbsp;2.&nbsp;7. <br>\n",
    "&nbsp;&nbsp;2.&nbsp;9.&nbsp;2.&nbsp;3.&nbsp;3.&nbsp;2.&nbsp;3.&nbsp;4.&nbsp;1.&nbsp;2.&nbsp;9.&nbsp;1.&nbsp;4.&nbsp;6.&nbsp;8.&nbsp;2.] <br>\n",
    "&nbsp;[3.&nbsp;0.&nbsp;0.&nbsp;6.&nbsp;0.&nbsp;6.&nbsp;3.&nbsp;3.&nbsp;8.&nbsp;8.&nbsp;8.&nbsp;2.&nbsp;3.&nbsp;2.&nbsp;0.&nbsp;8.&nbsp;8.&nbsp;3.&nbsp;8.&nbsp;2.&nbsp;8.&nbsp;4.&nbsp;3.&nbsp;0. <br>\n",
    "&nbsp;&nbsp;4.&nbsp;3.&nbsp;6.&nbsp;9.&nbsp;8.&nbsp;0.&nbsp;8.&nbsp;5.&nbsp;9.&nbsp;0.&nbsp;9.&nbsp;6.&nbsp;5.&nbsp;3.&nbsp;1.&nbsp;8.] <br>\n",
    "&nbsp;[0.&nbsp;4.&nbsp;9.&nbsp;6.&nbsp;5.&nbsp;7.&nbsp;8.&nbsp;8.&nbsp;9.&nbsp;2.&nbsp;8.&nbsp;6.&nbsp;6.&nbsp;9.&nbsp;1.&nbsp;6.&nbsp;8.&nbsp;8.&nbsp;3.&nbsp;2.&nbsp;3.&nbsp;6.&nbsp;3.&nbsp;6. <br>\n",
    "&nbsp;&nbsp;5.&nbsp;7.&nbsp;0.&nbsp;8.&nbsp;4.&nbsp;6.&nbsp;5.&nbsp;8.&nbsp;2.&nbsp;3.&nbsp;9.&nbsp;7.&nbsp;5.&nbsp;3.&nbsp;4.&nbsp;5.] <br>\n",
    "&nbsp;[0.&nbsp;0.&nbsp;0.&nbsp;0.&nbsp;0.&nbsp;0.&nbsp;0.&nbsp;0.&nbsp;0.&nbsp;0.&nbsp;0.&nbsp;0.&nbsp;0.&nbsp;0.&nbsp;0.&nbsp;0.&nbsp;0.&nbsp;0.&nbsp;0.&nbsp;0.&nbsp;0.&nbsp;0.&nbsp;0.&nbsp;0. <br>\n",
    "&nbsp;&nbsp;0.&nbsp;0.&nbsp;0.&nbsp;0.&nbsp;0.&nbsp;0.&nbsp;0.&nbsp;0.&nbsp;0.&nbsp;0.&nbsp;0.&nbsp;0.&nbsp;0.&nbsp;0.&nbsp;0.&nbsp;0.] <br>\n",
    "&nbsp;[0.&nbsp;0.&nbsp;0.&nbsp;0.&nbsp;0.&nbsp;0.&nbsp;0.&nbsp;0.&nbsp;0.&nbsp;0.&nbsp;0.&nbsp;0.&nbsp;0.&nbsp;0.&nbsp;0.&nbsp;0.&nbsp;0.&nbsp;0.&nbsp;0.&nbsp;0.&nbsp;0.&nbsp;0.&nbsp;0.&nbsp;0. <br>\n",
    "&nbsp;&nbsp;0.&nbsp;0.&nbsp;0.&nbsp;0.&nbsp;0.&nbsp;0.&nbsp;0.&nbsp;0.&nbsp;0.&nbsp;0.&nbsp;0.&nbsp;0.&nbsp;0.&nbsp;0.&nbsp;0.&nbsp;0.]]\n",
    "        </tt></td> \n",
    "    </tr>\n",
    "</table>"
   ]
  },
  {
   "cell_type": "code",
   "execution_count": null,
   "metadata": {
    "id": "vuTk0uxDh-a_"
   },
   "outputs": [],
   "source": []
  },
  {
   "cell_type": "markdown",
   "metadata": {
    "id": "DDt9yHEU0NF3"
   },
   "source": [
    "## **Recursion :**\n",
    "\n",
    "---"
   ]
  },
  {
   "cell_type": "markdown",
   "metadata": {
    "id": "FyAY5Zo4C9cY"
   },
   "source": [
    "**Exercise :**\n",
    "\n",
    "Implement a Fibonacci sequence is the integer sequence of 0, 1, 1, 2, 3, 5, 8 and so on using Recursion.\n",
    "\n",
    "The first two terms are 0 and 1. All other terms are obtained by adding the preceding two terms.This means to say the nth term is the sum of (n-1)th and (n-2)th term."
   ]
  },
  {
   "cell_type": "code",
   "execution_count": null,
   "metadata": {
    "colab": {
     "base_uri": "https://localhost:8080/"
    },
    "id": "FQvBfOf5C2pz",
    "outputId": "d61fb5d7-e274-43f8-9938-3acb6c06cdc7"
   },
   "outputs": [
    {
     "name": "stdout",
     "output_type": "stream",
     "text": [
      "Fibonacci sequence:\n",
      "None\n",
      "None\n",
      "None\n",
      "None\n",
      "None\n",
      "None\n",
      "None\n",
      "None\n",
      "None\n",
      "None\n"
     ]
    }
   ],
   "source": [
    "def recur_fibo(n):\n",
    "   #Implement the recursive call escape statement \n",
    "     #Write your code here\n",
    "     pass\n",
    "   #Implement the recursive call\n",
    "    #Write your code here\n",
    "     pass\n",
    "\n",
    "nterms = 10\n",
    "\n",
    "# check if the number of terms is valid\n",
    "if nterms <= 0:\n",
    "   print(\"Plese enter a positive integer\")\n",
    "else:\n",
    "   print(\"Fibonacci sequence:\")\n",
    "   for i in range(nterms):\n",
    "       print(recur_fibo(i)) "
   ]
  },
  {
   "cell_type": "markdown",
   "metadata": {
    "id": "m4IY9xwlAJ1g"
   },
   "source": [
    "### **Depth-first search (DFS) with Recursion**: \n",
    "\n",
    "---\n",
    "\n",
    "It is an algorithm for tree traversal on graph or tree data structures. It can be implemented easily using recursion and data structures like dictionaries and sets.\n",
    "\n",
    "The Algorithm:\n",
    "*  Pick any node. If it is unvisited, mark it as visited and recur on all its adjacent nodes.\n",
    "*  Repeat until all the nodes are visited, or the node to be searched is found."
   ]
  },
  {
   "cell_type": "markdown",
   "metadata": {
    "id": "Yd2woMGoA0sI"
   },
   "source": [
    "We will implement this DFS :\n",
    "![DFS.gif](data:image/gif;base64,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)\n"
   ]
  },
  {
   "cell_type": "markdown",
   "metadata": {
    "id": "10uM_0LOe1xK"
   },
   "source": [
    "#### **Exercise** : \n",
    "\n",
    "Implement the DFS inorder traversal shown above\n",
    "\n",
    "**Expected Output** : ABDECF \n"
   ]
  },
  {
   "cell_type": "code",
   "execution_count": null,
   "metadata": {
    "id": "8VLwCeJc1t1S"
   },
   "outputs": [],
   "source": [
    "# Using a Python dictionary to act as an adjacency list\n",
    "graph = {\n",
    "    'A' : ['B','C'],\n",
    "    'B' : ['D', 'E'],\n",
    "    'C' : ['F'],\n",
    "    'D' : [],\n",
    "    'E' : [],\n",
    "    'F' : []\n",
    "}\n",
    "\n",
    "visited = set() # Set to keep track of visited nodes.\n",
    "\n",
    "def dfs(visited, graph, node):\n",
    "\n",
    "    pass\n",
    "    '''\n",
    "    if node not in visited:\n",
    "        print (node)\n",
    "        visited.add(node)\n",
    "        for neighbour in graph[node]:\n",
    "            dfs(visited, graph, neighbour)\n",
    "    '''\n",
    "\n",
    "dfs(visited, graph, 'A')"
   ]
  }
 ],
 "metadata": {
  "colab": {
   "collapsed_sections": [
    "dXm9FUllFSSw",
    "0hzuBTxuFqSY",
    "KL6DGOa52_nx",
    "u80TqwMI2_nz",
    "LIJf-ImY2_n2",
    "QYdW53b_2_n4",
    "MJamtDvL2_n_",
    "wUntDGYM2_oB",
    "saWnHRYC2_oE",
    "IrPg5BtP2_oG",
    "Tf6YHkuk2_oH",
    "0hpfecaX2_oJ",
    "SS9ihFG92_oK",
    "0wOMneSn2_oN",
    "5GUs3hbW2_oO",
    "siBLl_G82_oO",
    "wqk9Bufc2_oP",
    "Nwu7OfTG2_oQ",
    "EpKq69jC2_oS",
    "E2bG0rKX2_oT",
    "HWangEV92_oU",
    "lrDXF-3y2_oU",
    "m8HOCznK2_oV",
    "YdFlj7v72_oW",
    "nMLLJrmH2_oX",
    "XNRsTs_o2_oY",
    "a5NVT0ZO2_oa",
    "d4q3FuLC2_ob",
    "B1dfPuZg2_oc",
    "4DSRcXqF2_oc",
    "kjJeN4ZT2_oe",
    "zdanp_tl2_og"
   ],
   "name": "S21_Hw0P1.ipynb",
   "provenance": []
  },
  "kernelspec": {
   "display_name": "Python 3",
   "language": "python",
   "name": "python3"
  },
  "language_info": {
   "codemirror_mode": {
    "name": "ipython",
    "version": 3
   },
   "file_extension": ".py",
   "mimetype": "text/x-python",
   "name": "python",
   "nbconvert_exporter": "python",
   "pygments_lexer": "ipython3",
   "version": "3.8.5"
  }
 },
 "nbformat": 4,
 "nbformat_minor": 1
}
